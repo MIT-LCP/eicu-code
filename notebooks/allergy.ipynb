{
 "cells": [
  {
   "cell_type": "markdown",
   "metadata": {},
   "source": [
    "# allergy\n",
    "\n",
    "* allergyEnteredOffset\n",
    "* allergyNoteType\n",
    "* specialtyType\n",
    "* userType\n",
    "* rxIncluded\n",
    "* writtenIneICU\n",
    "* drugName\n",
    "* allergyType\n",
    "* allergyName\n",
    "* drugHiclSeqno\n",
    "\n",
    "We recommend configuring the `config.ini` file to allow for connection to the database without specifying your password each time."
   ]
  },
  {
   "cell_type": "code",
   "execution_count": 1,
   "metadata": {
    "ExecuteTime": {
     "end_time": "2024-01-08T15:31:16.225886Z",
     "start_time": "2024-01-08T15:31:12.758490200Z"
    }
   },
   "outputs": [
    {
     "data": {
      "application/javascript": "(function(root) {\n  function now() {\n    return new Date();\n  }\n\n  var force = true;\n  var py_version = '3.3.2'.replace('rc', '-rc.').replace('.dev', '-dev.');\n  var reloading = false;\n  var Bokeh = root.Bokeh;\n\n  if (typeof (root._bokeh_timeout) === \"undefined\" || force) {\n    root._bokeh_timeout = Date.now() + 5000;\n    root._bokeh_failed_load = false;\n  }\n\n  function run_callbacks() {\n    try {\n      root._bokeh_onload_callbacks.forEach(function(callback) {\n        if (callback != null)\n          callback();\n      });\n    } finally {\n      delete root._bokeh_onload_callbacks;\n    }\n    console.debug(\"Bokeh: all callbacks have finished\");\n  }\n\n  function load_libs(css_urls, js_urls, js_modules, js_exports, callback) {\n    if (css_urls == null) css_urls = [];\n    if (js_urls == null) js_urls = [];\n    if (js_modules == null) js_modules = [];\n    if (js_exports == null) js_exports = {};\n\n    root._bokeh_onload_callbacks.push(callback);\n\n    if (root._bokeh_is_loading > 0) {\n      console.debug(\"Bokeh: BokehJS is being loaded, scheduling callback at\", now());\n      return null;\n    }\n    if (js_urls.length === 0 && js_modules.length === 0 && Object.keys(js_exports).length === 0) {\n      run_callbacks();\n      return null;\n    }\n    if (!reloading) {\n      console.debug(\"Bokeh: BokehJS not loaded, scheduling load and callback at\", now());\n    }\n\n    function on_load() {\n      root._bokeh_is_loading--;\n      if (root._bokeh_is_loading === 0) {\n        console.debug(\"Bokeh: all BokehJS libraries/stylesheets loaded\");\n        run_callbacks()\n      }\n    }\n    window._bokeh_on_load = on_load\n\n    function on_error() {\n      console.error(\"failed to load \" + url);\n    }\n\n    var skip = [];\n    if (window.requirejs) {\n      window.requirejs.config({'packages': {}, 'paths': {'plotly': 'https://cdn.plot.ly/plotly-2.18.0.min', 'jspanel': 'https://cdn.jsdelivr.net/npm/jspanel4@4.12.0/dist/jspanel', 'jspanel-modal': 'https://cdn.jsdelivr.net/npm/jspanel4@4.12.0/dist/extensions/modal/jspanel.modal', 'jspanel-tooltip': 'https://cdn.jsdelivr.net/npm/jspanel4@4.12.0/dist/extensions/tooltip/jspanel.tooltip', 'jspanel-hint': 'https://cdn.jsdelivr.net/npm/jspanel4@4.12.0/dist/extensions/hint/jspanel.hint', 'jspanel-layout': 'https://cdn.jsdelivr.net/npm/jspanel4@4.12.0/dist/extensions/layout/jspanel.layout', 'jspanel-contextmenu': 'https://cdn.jsdelivr.net/npm/jspanel4@4.12.0/dist/extensions/contextmenu/jspanel.contextmenu', 'jspanel-dock': 'https://cdn.jsdelivr.net/npm/jspanel4@4.12.0/dist/extensions/dock/jspanel.dock', 'gridstack': 'https://cdn.jsdelivr.net/npm/gridstack@7.2.3/dist/gridstack-all', 'notyf': 'https://cdn.jsdelivr.net/npm/notyf@3/notyf.min'}, 'shim': {'jspanel': {'exports': 'jsPanel'}, 'gridstack': {'exports': 'GridStack'}}});\n      require([\"plotly\"], function(Plotly) {\n\twindow.Plotly = Plotly\n\ton_load()\n      })\n      require([\"jspanel\"], function(jsPanel) {\n\twindow.jsPanel = jsPanel\n\ton_load()\n      })\n      require([\"jspanel-modal\"], function() {\n\ton_load()\n      })\n      require([\"jspanel-tooltip\"], function() {\n\ton_load()\n      })\n      require([\"jspanel-hint\"], function() {\n\ton_load()\n      })\n      require([\"jspanel-layout\"], function() {\n\ton_load()\n      })\n      require([\"jspanel-contextmenu\"], function() {\n\ton_load()\n      })\n      require([\"jspanel-dock\"], function() {\n\ton_load()\n      })\n      require([\"gridstack\"], function(GridStack) {\n\twindow.GridStack = GridStack\n\ton_load()\n      })\n      require([\"notyf\"], function() {\n\ton_load()\n      })\n      root._bokeh_is_loading = css_urls.length + 10;\n    } else {\n      root._bokeh_is_loading = css_urls.length + js_urls.length + js_modules.length + Object.keys(js_exports).length;\n    }\n\n    var existing_stylesheets = []\n    var links = document.getElementsByTagName('link')\n    for (var i = 0; i < links.length; i++) {\n      var link = links[i]\n      if (link.href != null) {\n\texisting_stylesheets.push(link.href)\n      }\n    }\n    for (var i = 0; i < css_urls.length; i++) {\n      var url = css_urls[i];\n      if (existing_stylesheets.indexOf(url) !== -1) {\n\ton_load()\n\tcontinue;\n      }\n      const element = document.createElement(\"link\");\n      element.onload = on_load;\n      element.onerror = on_error;\n      element.rel = \"stylesheet\";\n      element.type = \"text/css\";\n      element.href = url;\n      console.debug(\"Bokeh: injecting link tag for BokehJS stylesheet: \", url);\n      document.body.appendChild(element);\n    }    if (((window['Plotly'] !== undefined) && (!(window['Plotly'] instanceof HTMLElement))) || window.requirejs) {\n      var urls = ['https://cdn.holoviz.org/panel/1.3.4/dist/bundled/plotlyplot/plotly-2.18.0.min.js'];\n      for (var i = 0; i < urls.length; i++) {\n        skip.push(urls[i])\n      }\n    }    if (((window['jsPanel'] !== undefined) && (!(window['jsPanel'] instanceof HTMLElement))) || window.requirejs) {\n      var urls = ['https://cdn.holoviz.org/panel/1.3.4/dist/bundled/floatpanel/jspanel4@4.12.0/dist/jspanel.js', 'https://cdn.holoviz.org/panel/1.3.4/dist/bundled/floatpanel/jspanel4@4.12.0/dist/extensions/modal/jspanel.modal.js', 'https://cdn.holoviz.org/panel/1.3.4/dist/bundled/floatpanel/jspanel4@4.12.0/dist/extensions/tooltip/jspanel.tooltip.js', 'https://cdn.holoviz.org/panel/1.3.4/dist/bundled/floatpanel/jspanel4@4.12.0/dist/extensions/hint/jspanel.hint.js', 'https://cdn.holoviz.org/panel/1.3.4/dist/bundled/floatpanel/jspanel4@4.12.0/dist/extensions/layout/jspanel.layout.js', 'https://cdn.holoviz.org/panel/1.3.4/dist/bundled/floatpanel/jspanel4@4.12.0/dist/extensions/contextmenu/jspanel.contextmenu.js', 'https://cdn.holoviz.org/panel/1.3.4/dist/bundled/floatpanel/jspanel4@4.12.0/dist/extensions/dock/jspanel.dock.js'];\n      for (var i = 0; i < urls.length; i++) {\n        skip.push(urls[i])\n      }\n    }    if (((window['GridStack'] !== undefined) && (!(window['GridStack'] instanceof HTMLElement))) || window.requirejs) {\n      var urls = ['https://cdn.holoviz.org/panel/1.3.4/dist/bundled/gridstack/gridstack@7.2.3/dist/gridstack-all.js'];\n      for (var i = 0; i < urls.length; i++) {\n        skip.push(urls[i])\n      }\n    }    if (((window['Notyf'] !== undefined) && (!(window['Notyf'] instanceof HTMLElement))) || window.requirejs) {\n      var urls = ['https://cdn.holoviz.org/panel/1.3.4/dist/bundled/notificationarea/notyf@3/notyf.min.js'];\n      for (var i = 0; i < urls.length; i++) {\n        skip.push(urls[i])\n      }\n    }    var existing_scripts = []\n    var scripts = document.getElementsByTagName('script')\n    for (var i = 0; i < scripts.length; i++) {\n      var script = scripts[i]\n      if (script.src != null) {\n\texisting_scripts.push(script.src)\n      }\n    }\n    for (var i = 0; i < js_urls.length; i++) {\n      var url = js_urls[i];\n      if (skip.indexOf(url) !== -1 || existing_scripts.indexOf(url) !== -1) {\n\tif (!window.requirejs) {\n\t  on_load();\n\t}\n\tcontinue;\n      }\n      var element = document.createElement('script');\n      element.onload = on_load;\n      element.onerror = on_error;\n      element.async = false;\n      element.src = url;\n      console.debug(\"Bokeh: injecting script tag for BokehJS library: \", url);\n      document.head.appendChild(element);\n    }\n    for (var i = 0; i < js_modules.length; i++) {\n      var url = js_modules[i];\n      if (skip.indexOf(url) !== -1 || existing_scripts.indexOf(url) !== -1) {\n\tif (!window.requirejs) {\n\t  on_load();\n\t}\n\tcontinue;\n      }\n      var element = document.createElement('script');\n      element.onload = on_load;\n      element.onerror = on_error;\n      element.async = false;\n      element.src = url;\n      element.type = \"module\";\n      console.debug(\"Bokeh: injecting script tag for BokehJS library: \", url);\n      document.head.appendChild(element);\n    }\n    for (const name in js_exports) {\n      var url = js_exports[name];\n      if (skip.indexOf(url) >= 0 || root[name] != null) {\n\tif (!window.requirejs) {\n\t  on_load();\n\t}\n\tcontinue;\n      }\n      var element = document.createElement('script');\n      element.onerror = on_error;\n      element.async = false;\n      element.type = \"module\";\n      console.debug(\"Bokeh: injecting script tag for BokehJS library: \", url);\n      element.textContent = `\n      import ${name} from \"${url}\"\n      window.${name} = ${name}\n      window._bokeh_on_load()\n      `\n      document.head.appendChild(element);\n    }\n    if (!js_urls.length && !js_modules.length) {\n      on_load()\n    }\n  };\n\n  function inject_raw_css(css) {\n    const element = document.createElement(\"style\");\n    element.appendChild(document.createTextNode(css));\n    document.body.appendChild(element);\n  }\n\n  var js_urls = [\"https://cdn.holoviz.org/panel/1.3.4/dist/bundled/jquery/jquery.slim.min.js\", \"https://cdn.holoviz.org/panel/1.3.4/dist/bundled/plotlyplot/plotly-2.18.0.min.js\", \"https://cdn.bokeh.org/bokeh/release/bokeh-3.3.2.min.js\", \"https://cdn.bokeh.org/bokeh/release/bokeh-gl-3.3.2.min.js\", \"https://cdn.bokeh.org/bokeh/release/bokeh-widgets-3.3.2.min.js\", \"https://cdn.bokeh.org/bokeh/release/bokeh-tables-3.3.2.min.js\", \"https://cdn.holoviz.org/panel/1.3.4/dist/panel.min.js\"];\n  var js_modules = [];\n  var js_exports = {};\n  var css_urls = [];\n  var inline_js = [    function(Bokeh) {\n      Bokeh.set_log_level(\"info\");\n    },\nfunction(Bokeh) {} // ensure no trailing comma for IE\n  ];\n\n  function run_inline_js() {\n    if ((root.Bokeh !== undefined) || (force === true)) {\n      for (var i = 0; i < inline_js.length; i++) {\n\ttry {\n          inline_js[i].call(root, root.Bokeh);\n\t} catch(e) {\n\t  if (!reloading) {\n\t    throw e;\n\t  }\n\t}\n      }\n      // Cache old bokeh versions\n      if (Bokeh != undefined && !reloading) {\n\tvar NewBokeh = root.Bokeh;\n\tif (Bokeh.versions === undefined) {\n\t  Bokeh.versions = new Map();\n\t}\n\tif (NewBokeh.version !== Bokeh.version) {\n\t  Bokeh.versions.set(NewBokeh.version, NewBokeh)\n\t}\n\troot.Bokeh = Bokeh;\n      }} else if (Date.now() < root._bokeh_timeout) {\n      setTimeout(run_inline_js, 100);\n    } else if (!root._bokeh_failed_load) {\n      console.log(\"Bokeh: BokehJS failed to load within specified timeout.\");\n      root._bokeh_failed_load = true;\n    }\n    root._bokeh_is_initializing = false\n  }\n\n  function load_or_wait() {\n    // Implement a backoff loop that tries to ensure we do not load multiple\n    // versions of Bokeh and its dependencies at the same time.\n    // In recent versions we use the root._bokeh_is_initializing flag\n    // to determine whether there is an ongoing attempt to initialize\n    // bokeh, however for backward compatibility we also try to ensure\n    // that we do not start loading a newer (Panel>=1.0 and Bokeh>3) version\n    // before older versions are fully initialized.\n    if (root._bokeh_is_initializing && Date.now() > root._bokeh_timeout) {\n      root._bokeh_is_initializing = false;\n      root._bokeh_onload_callbacks = undefined;\n      console.log(\"Bokeh: BokehJS was loaded multiple times but one version failed to initialize.\");\n      load_or_wait();\n    } else if (root._bokeh_is_initializing || (typeof root._bokeh_is_initializing === \"undefined\" && root._bokeh_onload_callbacks !== undefined)) {\n      setTimeout(load_or_wait, 100);\n    } else {\n      root._bokeh_is_initializing = true\n      root._bokeh_onload_callbacks = []\n      var bokeh_loaded = Bokeh != null && (Bokeh.version === py_version || (Bokeh.versions !== undefined && Bokeh.versions.has(py_version)));\n      if (!reloading && !bokeh_loaded) {\n\troot.Bokeh = undefined;\n      }\n      load_libs(css_urls, js_urls, js_modules, js_exports, function() {\n\tconsole.debug(\"Bokeh: BokehJS plotting callback run at\", now());\n\trun_inline_js();\n      });\n    }\n  }\n  // Give older versions of the autoload script a head-start to ensure\n  // they initialize before we start loading newer version.\n  setTimeout(load_or_wait, 100)\n}(window));",
      "application/vnd.holoviews_load.v0+json": "(function(root) {\n  function now() {\n    return new Date();\n  }\n\n  var force = true;\n  var py_version = '3.3.2'.replace('rc', '-rc.').replace('.dev', '-dev.');\n  var reloading = false;\n  var Bokeh = root.Bokeh;\n\n  if (typeof (root._bokeh_timeout) === \"undefined\" || force) {\n    root._bokeh_timeout = Date.now() + 5000;\n    root._bokeh_failed_load = false;\n  }\n\n  function run_callbacks() {\n    try {\n      root._bokeh_onload_callbacks.forEach(function(callback) {\n        if (callback != null)\n          callback();\n      });\n    } finally {\n      delete root._bokeh_onload_callbacks;\n    }\n    console.debug(\"Bokeh: all callbacks have finished\");\n  }\n\n  function load_libs(css_urls, js_urls, js_modules, js_exports, callback) {\n    if (css_urls == null) css_urls = [];\n    if (js_urls == null) js_urls = [];\n    if (js_modules == null) js_modules = [];\n    if (js_exports == null) js_exports = {};\n\n    root._bokeh_onload_callbacks.push(callback);\n\n    if (root._bokeh_is_loading > 0) {\n      console.debug(\"Bokeh: BokehJS is being loaded, scheduling callback at\", now());\n      return null;\n    }\n    if (js_urls.length === 0 && js_modules.length === 0 && Object.keys(js_exports).length === 0) {\n      run_callbacks();\n      return null;\n    }\n    if (!reloading) {\n      console.debug(\"Bokeh: BokehJS not loaded, scheduling load and callback at\", now());\n    }\n\n    function on_load() {\n      root._bokeh_is_loading--;\n      if (root._bokeh_is_loading === 0) {\n        console.debug(\"Bokeh: all BokehJS libraries/stylesheets loaded\");\n        run_callbacks()\n      }\n    }\n    window._bokeh_on_load = on_load\n\n    function on_error() {\n      console.error(\"failed to load \" + url);\n    }\n\n    var skip = [];\n    if (window.requirejs) {\n      window.requirejs.config({'packages': {}, 'paths': {'plotly': 'https://cdn.plot.ly/plotly-2.18.0.min', 'jspanel': 'https://cdn.jsdelivr.net/npm/jspanel4@4.12.0/dist/jspanel', 'jspanel-modal': 'https://cdn.jsdelivr.net/npm/jspanel4@4.12.0/dist/extensions/modal/jspanel.modal', 'jspanel-tooltip': 'https://cdn.jsdelivr.net/npm/jspanel4@4.12.0/dist/extensions/tooltip/jspanel.tooltip', 'jspanel-hint': 'https://cdn.jsdelivr.net/npm/jspanel4@4.12.0/dist/extensions/hint/jspanel.hint', 'jspanel-layout': 'https://cdn.jsdelivr.net/npm/jspanel4@4.12.0/dist/extensions/layout/jspanel.layout', 'jspanel-contextmenu': 'https://cdn.jsdelivr.net/npm/jspanel4@4.12.0/dist/extensions/contextmenu/jspanel.contextmenu', 'jspanel-dock': 'https://cdn.jsdelivr.net/npm/jspanel4@4.12.0/dist/extensions/dock/jspanel.dock', 'gridstack': 'https://cdn.jsdelivr.net/npm/gridstack@7.2.3/dist/gridstack-all', 'notyf': 'https://cdn.jsdelivr.net/npm/notyf@3/notyf.min'}, 'shim': {'jspanel': {'exports': 'jsPanel'}, 'gridstack': {'exports': 'GridStack'}}});\n      require([\"plotly\"], function(Plotly) {\n\twindow.Plotly = Plotly\n\ton_load()\n      })\n      require([\"jspanel\"], function(jsPanel) {\n\twindow.jsPanel = jsPanel\n\ton_load()\n      })\n      require([\"jspanel-modal\"], function() {\n\ton_load()\n      })\n      require([\"jspanel-tooltip\"], function() {\n\ton_load()\n      })\n      require([\"jspanel-hint\"], function() {\n\ton_load()\n      })\n      require([\"jspanel-layout\"], function() {\n\ton_load()\n      })\n      require([\"jspanel-contextmenu\"], function() {\n\ton_load()\n      })\n      require([\"jspanel-dock\"], function() {\n\ton_load()\n      })\n      require([\"gridstack\"], function(GridStack) {\n\twindow.GridStack = GridStack\n\ton_load()\n      })\n      require([\"notyf\"], function() {\n\ton_load()\n      })\n      root._bokeh_is_loading = css_urls.length + 10;\n    } else {\n      root._bokeh_is_loading = css_urls.length + js_urls.length + js_modules.length + Object.keys(js_exports).length;\n    }\n\n    var existing_stylesheets = []\n    var links = document.getElementsByTagName('link')\n    for (var i = 0; i < links.length; i++) {\n      var link = links[i]\n      if (link.href != null) {\n\texisting_stylesheets.push(link.href)\n      }\n    }\n    for (var i = 0; i < css_urls.length; i++) {\n      var url = css_urls[i];\n      if (existing_stylesheets.indexOf(url) !== -1) {\n\ton_load()\n\tcontinue;\n      }\n      const element = document.createElement(\"link\");\n      element.onload = on_load;\n      element.onerror = on_error;\n      element.rel = \"stylesheet\";\n      element.type = \"text/css\";\n      element.href = url;\n      console.debug(\"Bokeh: injecting link tag for BokehJS stylesheet: \", url);\n      document.body.appendChild(element);\n    }    if (((window['Plotly'] !== undefined) && (!(window['Plotly'] instanceof HTMLElement))) || window.requirejs) {\n      var urls = ['https://cdn.holoviz.org/panel/1.3.4/dist/bundled/plotlyplot/plotly-2.18.0.min.js'];\n      for (var i = 0; i < urls.length; i++) {\n        skip.push(urls[i])\n      }\n    }    if (((window['jsPanel'] !== undefined) && (!(window['jsPanel'] instanceof HTMLElement))) || window.requirejs) {\n      var urls = ['https://cdn.holoviz.org/panel/1.3.4/dist/bundled/floatpanel/jspanel4@4.12.0/dist/jspanel.js', 'https://cdn.holoviz.org/panel/1.3.4/dist/bundled/floatpanel/jspanel4@4.12.0/dist/extensions/modal/jspanel.modal.js', 'https://cdn.holoviz.org/panel/1.3.4/dist/bundled/floatpanel/jspanel4@4.12.0/dist/extensions/tooltip/jspanel.tooltip.js', 'https://cdn.holoviz.org/panel/1.3.4/dist/bundled/floatpanel/jspanel4@4.12.0/dist/extensions/hint/jspanel.hint.js', 'https://cdn.holoviz.org/panel/1.3.4/dist/bundled/floatpanel/jspanel4@4.12.0/dist/extensions/layout/jspanel.layout.js', 'https://cdn.holoviz.org/panel/1.3.4/dist/bundled/floatpanel/jspanel4@4.12.0/dist/extensions/contextmenu/jspanel.contextmenu.js', 'https://cdn.holoviz.org/panel/1.3.4/dist/bundled/floatpanel/jspanel4@4.12.0/dist/extensions/dock/jspanel.dock.js'];\n      for (var i = 0; i < urls.length; i++) {\n        skip.push(urls[i])\n      }\n    }    if (((window['GridStack'] !== undefined) && (!(window['GridStack'] instanceof HTMLElement))) || window.requirejs) {\n      var urls = ['https://cdn.holoviz.org/panel/1.3.4/dist/bundled/gridstack/gridstack@7.2.3/dist/gridstack-all.js'];\n      for (var i = 0; i < urls.length; i++) {\n        skip.push(urls[i])\n      }\n    }    if (((window['Notyf'] !== undefined) && (!(window['Notyf'] instanceof HTMLElement))) || window.requirejs) {\n      var urls = ['https://cdn.holoviz.org/panel/1.3.4/dist/bundled/notificationarea/notyf@3/notyf.min.js'];\n      for (var i = 0; i < urls.length; i++) {\n        skip.push(urls[i])\n      }\n    }    var existing_scripts = []\n    var scripts = document.getElementsByTagName('script')\n    for (var i = 0; i < scripts.length; i++) {\n      var script = scripts[i]\n      if (script.src != null) {\n\texisting_scripts.push(script.src)\n      }\n    }\n    for (var i = 0; i < js_urls.length; i++) {\n      var url = js_urls[i];\n      if (skip.indexOf(url) !== -1 || existing_scripts.indexOf(url) !== -1) {\n\tif (!window.requirejs) {\n\t  on_load();\n\t}\n\tcontinue;\n      }\n      var element = document.createElement('script');\n      element.onload = on_load;\n      element.onerror = on_error;\n      element.async = false;\n      element.src = url;\n      console.debug(\"Bokeh: injecting script tag for BokehJS library: \", url);\n      document.head.appendChild(element);\n    }\n    for (var i = 0; i < js_modules.length; i++) {\n      var url = js_modules[i];\n      if (skip.indexOf(url) !== -1 || existing_scripts.indexOf(url) !== -1) {\n\tif (!window.requirejs) {\n\t  on_load();\n\t}\n\tcontinue;\n      }\n      var element = document.createElement('script');\n      element.onload = on_load;\n      element.onerror = on_error;\n      element.async = false;\n      element.src = url;\n      element.type = \"module\";\n      console.debug(\"Bokeh: injecting script tag for BokehJS library: \", url);\n      document.head.appendChild(element);\n    }\n    for (const name in js_exports) {\n      var url = js_exports[name];\n      if (skip.indexOf(url) >= 0 || root[name] != null) {\n\tif (!window.requirejs) {\n\t  on_load();\n\t}\n\tcontinue;\n      }\n      var element = document.createElement('script');\n      element.onerror = on_error;\n      element.async = false;\n      element.type = \"module\";\n      console.debug(\"Bokeh: injecting script tag for BokehJS library: \", url);\n      element.textContent = `\n      import ${name} from \"${url}\"\n      window.${name} = ${name}\n      window._bokeh_on_load()\n      `\n      document.head.appendChild(element);\n    }\n    if (!js_urls.length && !js_modules.length) {\n      on_load()\n    }\n  };\n\n  function inject_raw_css(css) {\n    const element = document.createElement(\"style\");\n    element.appendChild(document.createTextNode(css));\n    document.body.appendChild(element);\n  }\n\n  var js_urls = [\"https://cdn.holoviz.org/panel/1.3.4/dist/bundled/jquery/jquery.slim.min.js\", \"https://cdn.holoviz.org/panel/1.3.4/dist/bundled/plotlyplot/plotly-2.18.0.min.js\", \"https://cdn.bokeh.org/bokeh/release/bokeh-3.3.2.min.js\", \"https://cdn.bokeh.org/bokeh/release/bokeh-gl-3.3.2.min.js\", \"https://cdn.bokeh.org/bokeh/release/bokeh-widgets-3.3.2.min.js\", \"https://cdn.bokeh.org/bokeh/release/bokeh-tables-3.3.2.min.js\", \"https://cdn.holoviz.org/panel/1.3.4/dist/panel.min.js\"];\n  var js_modules = [];\n  var js_exports = {};\n  var css_urls = [];\n  var inline_js = [    function(Bokeh) {\n      Bokeh.set_log_level(\"info\");\n    },\nfunction(Bokeh) {} // ensure no trailing comma for IE\n  ];\n\n  function run_inline_js() {\n    if ((root.Bokeh !== undefined) || (force === true)) {\n      for (var i = 0; i < inline_js.length; i++) {\n\ttry {\n          inline_js[i].call(root, root.Bokeh);\n\t} catch(e) {\n\t  if (!reloading) {\n\t    throw e;\n\t  }\n\t}\n      }\n      // Cache old bokeh versions\n      if (Bokeh != undefined && !reloading) {\n\tvar NewBokeh = root.Bokeh;\n\tif (Bokeh.versions === undefined) {\n\t  Bokeh.versions = new Map();\n\t}\n\tif (NewBokeh.version !== Bokeh.version) {\n\t  Bokeh.versions.set(NewBokeh.version, NewBokeh)\n\t}\n\troot.Bokeh = Bokeh;\n      }} else if (Date.now() < root._bokeh_timeout) {\n      setTimeout(run_inline_js, 100);\n    } else if (!root._bokeh_failed_load) {\n      console.log(\"Bokeh: BokehJS failed to load within specified timeout.\");\n      root._bokeh_failed_load = true;\n    }\n    root._bokeh_is_initializing = false\n  }\n\n  function load_or_wait() {\n    // Implement a backoff loop that tries to ensure we do not load multiple\n    // versions of Bokeh and its dependencies at the same time.\n    // In recent versions we use the root._bokeh_is_initializing flag\n    // to determine whether there is an ongoing attempt to initialize\n    // bokeh, however for backward compatibility we also try to ensure\n    // that we do not start loading a newer (Panel>=1.0 and Bokeh>3) version\n    // before older versions are fully initialized.\n    if (root._bokeh_is_initializing && Date.now() > root._bokeh_timeout) {\n      root._bokeh_is_initializing = false;\n      root._bokeh_onload_callbacks = undefined;\n      console.log(\"Bokeh: BokehJS was loaded multiple times but one version failed to initialize.\");\n      load_or_wait();\n    } else if (root._bokeh_is_initializing || (typeof root._bokeh_is_initializing === \"undefined\" && root._bokeh_onload_callbacks !== undefined)) {\n      setTimeout(load_or_wait, 100);\n    } else {\n      root._bokeh_is_initializing = true\n      root._bokeh_onload_callbacks = []\n      var bokeh_loaded = Bokeh != null && (Bokeh.version === py_version || (Bokeh.versions !== undefined && Bokeh.versions.has(py_version)));\n      if (!reloading && !bokeh_loaded) {\n\troot.Bokeh = undefined;\n      }\n      load_libs(css_urls, js_urls, js_modules, js_exports, function() {\n\tconsole.debug(\"Bokeh: BokehJS plotting callback run at\", now());\n\trun_inline_js();\n      });\n    }\n  }\n  // Give older versions of the autoload script a head-start to ensure\n  // they initialize before we start loading newer version.\n  setTimeout(load_or_wait, 100)\n}(window));"
     },
     "metadata": {},
     "output_type": "display_data"
    },
    {
     "data": {
      "application/vnd.holoviews_load.v0+json": "\nif ((window.PyViz === undefined) || (window.PyViz instanceof HTMLElement)) {\n  window.PyViz = {comms: {}, comm_status:{}, kernels:{}, receivers: {}, plot_index: []}\n}\n\n\n    function JupyterCommManager() {\n    }\n\n    JupyterCommManager.prototype.register_target = function(plot_id, comm_id, msg_handler) {\n      if (window.comm_manager || ((window.Jupyter !== undefined) && (Jupyter.notebook.kernel != null))) {\n        var comm_manager = window.comm_manager || Jupyter.notebook.kernel.comm_manager;\n        comm_manager.register_target(comm_id, function(comm) {\n          comm.on_msg(msg_handler);\n        });\n      } else if ((plot_id in window.PyViz.kernels) && (window.PyViz.kernels[plot_id])) {\n        window.PyViz.kernels[plot_id].registerCommTarget(comm_id, function(comm) {\n          comm.onMsg = msg_handler;\n        });\n      } else if (typeof google != 'undefined' && google.colab.kernel != null) {\n        google.colab.kernel.comms.registerTarget(comm_id, (comm) => {\n          var messages = comm.messages[Symbol.asyncIterator]();\n          function processIteratorResult(result) {\n            var message = result.value;\n            console.log(message)\n            var content = {data: message.data, comm_id};\n            var buffers = []\n            for (var buffer of message.buffers || []) {\n              buffers.push(new DataView(buffer))\n            }\n            var metadata = message.metadata || {};\n            var msg = {content, buffers, metadata}\n            msg_handler(msg);\n            return messages.next().then(processIteratorResult);\n          }\n          return messages.next().then(processIteratorResult);\n        })\n      }\n    }\n\n    JupyterCommManager.prototype.get_client_comm = function(plot_id, comm_id, msg_handler) {\n      if (comm_id in window.PyViz.comms) {\n        return window.PyViz.comms[comm_id];\n      } else if (window.comm_manager || ((window.Jupyter !== undefined) && (Jupyter.notebook.kernel != null))) {\n        var comm_manager = window.comm_manager || Jupyter.notebook.kernel.comm_manager;\n        var comm = comm_manager.new_comm(comm_id, {}, {}, {}, comm_id);\n        if (msg_handler) {\n          comm.on_msg(msg_handler);\n        }\n      } else if ((plot_id in window.PyViz.kernels) && (window.PyViz.kernels[plot_id])) {\n        var comm = window.PyViz.kernels[plot_id].connectToComm(comm_id);\n        comm.open();\n        if (msg_handler) {\n          comm.onMsg = msg_handler;\n        }\n      } else if (typeof google != 'undefined' && google.colab.kernel != null) {\n        var comm_promise = google.colab.kernel.comms.open(comm_id)\n        comm_promise.then((comm) => {\n          window.PyViz.comms[comm_id] = comm;\n          if (msg_handler) {\n            var messages = comm.messages[Symbol.asyncIterator]();\n            function processIteratorResult(result) {\n              var message = result.value;\n              var content = {data: message.data};\n              var metadata = message.metadata || {comm_id};\n              var msg = {content, metadata}\n              msg_handler(msg);\n              return messages.next().then(processIteratorResult);\n            }\n            return messages.next().then(processIteratorResult);\n          }\n        }) \n        var sendClosure = (data, metadata, buffers, disposeOnDone) => {\n          return comm_promise.then((comm) => {\n            comm.send(data, metadata, buffers, disposeOnDone);\n          });\n        };\n        var comm = {\n          send: sendClosure\n        };\n      }\n      window.PyViz.comms[comm_id] = comm;\n      return comm;\n    }\n    window.PyViz.comm_manager = new JupyterCommManager();\n    \n\n\nvar JS_MIME_TYPE = 'application/javascript';\nvar HTML_MIME_TYPE = 'text/html';\nvar EXEC_MIME_TYPE = 'application/vnd.holoviews_exec.v0+json';\nvar CLASS_NAME = 'output';\n\n/**\n * Render data to the DOM node\n */\nfunction render(props, node) {\n  var div = document.createElement(\"div\");\n  var script = document.createElement(\"script\");\n  node.appendChild(div);\n  node.appendChild(script);\n}\n\n/**\n * Handle when a new output is added\n */\nfunction handle_add_output(event, handle) {\n  var output_area = handle.output_area;\n  var output = handle.output;\n  if ((output.data == undefined) || (!output.data.hasOwnProperty(EXEC_MIME_TYPE))) {\n    return\n  }\n  var id = output.metadata[EXEC_MIME_TYPE][\"id\"];\n  var toinsert = output_area.element.find(\".\" + CLASS_NAME.split(' ')[0]);\n  if (id !== undefined) {\n    var nchildren = toinsert.length;\n    var html_node = toinsert[nchildren-1].children[0];\n    html_node.innerHTML = output.data[HTML_MIME_TYPE];\n    var scripts = [];\n    var nodelist = html_node.querySelectorAll(\"script\");\n    for (var i in nodelist) {\n      if (nodelist.hasOwnProperty(i)) {\n        scripts.push(nodelist[i])\n      }\n    }\n\n    scripts.forEach( function (oldScript) {\n      var newScript = document.createElement(\"script\");\n      var attrs = [];\n      var nodemap = oldScript.attributes;\n      for (var j in nodemap) {\n        if (nodemap.hasOwnProperty(j)) {\n          attrs.push(nodemap[j])\n        }\n      }\n      attrs.forEach(function(attr) { newScript.setAttribute(attr.name, attr.value) });\n      newScript.appendChild(document.createTextNode(oldScript.innerHTML));\n      oldScript.parentNode.replaceChild(newScript, oldScript);\n    });\n    if (JS_MIME_TYPE in output.data) {\n      toinsert[nchildren-1].children[1].textContent = output.data[JS_MIME_TYPE];\n    }\n    output_area._hv_plot_id = id;\n    if ((window.Bokeh !== undefined) && (id in Bokeh.index)) {\n      window.PyViz.plot_index[id] = Bokeh.index[id];\n    } else {\n      window.PyViz.plot_index[id] = null;\n    }\n  } else if (output.metadata[EXEC_MIME_TYPE][\"server_id\"] !== undefined) {\n    var bk_div = document.createElement(\"div\");\n    bk_div.innerHTML = output.data[HTML_MIME_TYPE];\n    var script_attrs = bk_div.children[0].attributes;\n    for (var i = 0; i < script_attrs.length; i++) {\n      toinsert[toinsert.length - 1].childNodes[1].setAttribute(script_attrs[i].name, script_attrs[i].value);\n    }\n    // store reference to server id on output_area\n    output_area._bokeh_server_id = output.metadata[EXEC_MIME_TYPE][\"server_id\"];\n  }\n}\n\n/**\n * Handle when an output is cleared or removed\n */\nfunction handle_clear_output(event, handle) {\n  var id = handle.cell.output_area._hv_plot_id;\n  var server_id = handle.cell.output_area._bokeh_server_id;\n  if (((id === undefined) || !(id in PyViz.plot_index)) && (server_id !== undefined)) { return; }\n  var comm = window.PyViz.comm_manager.get_client_comm(\"hv-extension-comm\", \"hv-extension-comm\", function () {});\n  if (server_id !== null) {\n    comm.send({event_type: 'server_delete', 'id': server_id});\n    return;\n  } else if (comm !== null) {\n    comm.send({event_type: 'delete', 'id': id});\n  }\n  delete PyViz.plot_index[id];\n  if ((window.Bokeh !== undefined) & (id in window.Bokeh.index)) {\n    var doc = window.Bokeh.index[id].model.document\n    doc.clear();\n    const i = window.Bokeh.documents.indexOf(doc);\n    if (i > -1) {\n      window.Bokeh.documents.splice(i, 1);\n    }\n  }\n}\n\n/**\n * Handle kernel restart event\n */\nfunction handle_kernel_cleanup(event, handle) {\n  delete PyViz.comms[\"hv-extension-comm\"];\n  window.PyViz.plot_index = {}\n}\n\n/**\n * Handle update_display_data messages\n */\nfunction handle_update_output(event, handle) {\n  handle_clear_output(event, {cell: {output_area: handle.output_area}})\n  handle_add_output(event, handle)\n}\n\nfunction register_renderer(events, OutputArea) {\n  function append_mime(data, metadata, element) {\n    // create a DOM node to render to\n    var toinsert = this.create_output_subarea(\n    metadata,\n    CLASS_NAME,\n    EXEC_MIME_TYPE\n    );\n    this.keyboard_manager.register_events(toinsert);\n    // Render to node\n    var props = {data: data, metadata: metadata[EXEC_MIME_TYPE]};\n    render(props, toinsert[0]);\n    element.append(toinsert);\n    return toinsert\n  }\n\n  events.on('output_added.OutputArea', handle_add_output);\n  events.on('output_updated.OutputArea', handle_update_output);\n  events.on('clear_output.CodeCell', handle_clear_output);\n  events.on('delete.Cell', handle_clear_output);\n  events.on('kernel_ready.Kernel', handle_kernel_cleanup);\n\n  OutputArea.prototype.register_mime_type(EXEC_MIME_TYPE, append_mime, {\n    safe: true,\n    index: 0\n  });\n}\n\nif (window.Jupyter !== undefined) {\n  try {\n    var events = require('base/js/events');\n    var OutputArea = require('notebook/js/outputarea').OutputArea;\n    if (OutputArea.prototype.mime_types().indexOf(EXEC_MIME_TYPE) == -1) {\n      register_renderer(events, OutputArea);\n    }\n  } catch(err) {\n  }\n}\n",
      "application/javascript": "\nif ((window.PyViz === undefined) || (window.PyViz instanceof HTMLElement)) {\n  window.PyViz = {comms: {}, comm_status:{}, kernels:{}, receivers: {}, plot_index: []}\n}\n\n\n    function JupyterCommManager() {\n    }\n\n    JupyterCommManager.prototype.register_target = function(plot_id, comm_id, msg_handler) {\n      if (window.comm_manager || ((window.Jupyter !== undefined) && (Jupyter.notebook.kernel != null))) {\n        var comm_manager = window.comm_manager || Jupyter.notebook.kernel.comm_manager;\n        comm_manager.register_target(comm_id, function(comm) {\n          comm.on_msg(msg_handler);\n        });\n      } else if ((plot_id in window.PyViz.kernels) && (window.PyViz.kernels[plot_id])) {\n        window.PyViz.kernels[plot_id].registerCommTarget(comm_id, function(comm) {\n          comm.onMsg = msg_handler;\n        });\n      } else if (typeof google != 'undefined' && google.colab.kernel != null) {\n        google.colab.kernel.comms.registerTarget(comm_id, (comm) => {\n          var messages = comm.messages[Symbol.asyncIterator]();\n          function processIteratorResult(result) {\n            var message = result.value;\n            console.log(message)\n            var content = {data: message.data, comm_id};\n            var buffers = []\n            for (var buffer of message.buffers || []) {\n              buffers.push(new DataView(buffer))\n            }\n            var metadata = message.metadata || {};\n            var msg = {content, buffers, metadata}\n            msg_handler(msg);\n            return messages.next().then(processIteratorResult);\n          }\n          return messages.next().then(processIteratorResult);\n        })\n      }\n    }\n\n    JupyterCommManager.prototype.get_client_comm = function(plot_id, comm_id, msg_handler) {\n      if (comm_id in window.PyViz.comms) {\n        return window.PyViz.comms[comm_id];\n      } else if (window.comm_manager || ((window.Jupyter !== undefined) && (Jupyter.notebook.kernel != null))) {\n        var comm_manager = window.comm_manager || Jupyter.notebook.kernel.comm_manager;\n        var comm = comm_manager.new_comm(comm_id, {}, {}, {}, comm_id);\n        if (msg_handler) {\n          comm.on_msg(msg_handler);\n        }\n      } else if ((plot_id in window.PyViz.kernels) && (window.PyViz.kernels[plot_id])) {\n        var comm = window.PyViz.kernels[plot_id].connectToComm(comm_id);\n        comm.open();\n        if (msg_handler) {\n          comm.onMsg = msg_handler;\n        }\n      } else if (typeof google != 'undefined' && google.colab.kernel != null) {\n        var comm_promise = google.colab.kernel.comms.open(comm_id)\n        comm_promise.then((comm) => {\n          window.PyViz.comms[comm_id] = comm;\n          if (msg_handler) {\n            var messages = comm.messages[Symbol.asyncIterator]();\n            function processIteratorResult(result) {\n              var message = result.value;\n              var content = {data: message.data};\n              var metadata = message.metadata || {comm_id};\n              var msg = {content, metadata}\n              msg_handler(msg);\n              return messages.next().then(processIteratorResult);\n            }\n            return messages.next().then(processIteratorResult);\n          }\n        }) \n        var sendClosure = (data, metadata, buffers, disposeOnDone) => {\n          return comm_promise.then((comm) => {\n            comm.send(data, metadata, buffers, disposeOnDone);\n          });\n        };\n        var comm = {\n          send: sendClosure\n        };\n      }\n      window.PyViz.comms[comm_id] = comm;\n      return comm;\n    }\n    window.PyViz.comm_manager = new JupyterCommManager();\n    \n\n\nvar JS_MIME_TYPE = 'application/javascript';\nvar HTML_MIME_TYPE = 'text/html';\nvar EXEC_MIME_TYPE = 'application/vnd.holoviews_exec.v0+json';\nvar CLASS_NAME = 'output';\n\n/**\n * Render data to the DOM node\n */\nfunction render(props, node) {\n  var div = document.createElement(\"div\");\n  var script = document.createElement(\"script\");\n  node.appendChild(div);\n  node.appendChild(script);\n}\n\n/**\n * Handle when a new output is added\n */\nfunction handle_add_output(event, handle) {\n  var output_area = handle.output_area;\n  var output = handle.output;\n  if ((output.data == undefined) || (!output.data.hasOwnProperty(EXEC_MIME_TYPE))) {\n    return\n  }\n  var id = output.metadata[EXEC_MIME_TYPE][\"id\"];\n  var toinsert = output_area.element.find(\".\" + CLASS_NAME.split(' ')[0]);\n  if (id !== undefined) {\n    var nchildren = toinsert.length;\n    var html_node = toinsert[nchildren-1].children[0];\n    html_node.innerHTML = output.data[HTML_MIME_TYPE];\n    var scripts = [];\n    var nodelist = html_node.querySelectorAll(\"script\");\n    for (var i in nodelist) {\n      if (nodelist.hasOwnProperty(i)) {\n        scripts.push(nodelist[i])\n      }\n    }\n\n    scripts.forEach( function (oldScript) {\n      var newScript = document.createElement(\"script\");\n      var attrs = [];\n      var nodemap = oldScript.attributes;\n      for (var j in nodemap) {\n        if (nodemap.hasOwnProperty(j)) {\n          attrs.push(nodemap[j])\n        }\n      }\n      attrs.forEach(function(attr) { newScript.setAttribute(attr.name, attr.value) });\n      newScript.appendChild(document.createTextNode(oldScript.innerHTML));\n      oldScript.parentNode.replaceChild(newScript, oldScript);\n    });\n    if (JS_MIME_TYPE in output.data) {\n      toinsert[nchildren-1].children[1].textContent = output.data[JS_MIME_TYPE];\n    }\n    output_area._hv_plot_id = id;\n    if ((window.Bokeh !== undefined) && (id in Bokeh.index)) {\n      window.PyViz.plot_index[id] = Bokeh.index[id];\n    } else {\n      window.PyViz.plot_index[id] = null;\n    }\n  } else if (output.metadata[EXEC_MIME_TYPE][\"server_id\"] !== undefined) {\n    var bk_div = document.createElement(\"div\");\n    bk_div.innerHTML = output.data[HTML_MIME_TYPE];\n    var script_attrs = bk_div.children[0].attributes;\n    for (var i = 0; i < script_attrs.length; i++) {\n      toinsert[toinsert.length - 1].childNodes[1].setAttribute(script_attrs[i].name, script_attrs[i].value);\n    }\n    // store reference to server id on output_area\n    output_area._bokeh_server_id = output.metadata[EXEC_MIME_TYPE][\"server_id\"];\n  }\n}\n\n/**\n * Handle when an output is cleared or removed\n */\nfunction handle_clear_output(event, handle) {\n  var id = handle.cell.output_area._hv_plot_id;\n  var server_id = handle.cell.output_area._bokeh_server_id;\n  if (((id === undefined) || !(id in PyViz.plot_index)) && (server_id !== undefined)) { return; }\n  var comm = window.PyViz.comm_manager.get_client_comm(\"hv-extension-comm\", \"hv-extension-comm\", function () {});\n  if (server_id !== null) {\n    comm.send({event_type: 'server_delete', 'id': server_id});\n    return;\n  } else if (comm !== null) {\n    comm.send({event_type: 'delete', 'id': id});\n  }\n  delete PyViz.plot_index[id];\n  if ((window.Bokeh !== undefined) & (id in window.Bokeh.index)) {\n    var doc = window.Bokeh.index[id].model.document\n    doc.clear();\n    const i = window.Bokeh.documents.indexOf(doc);\n    if (i > -1) {\n      window.Bokeh.documents.splice(i, 1);\n    }\n  }\n}\n\n/**\n * Handle kernel restart event\n */\nfunction handle_kernel_cleanup(event, handle) {\n  delete PyViz.comms[\"hv-extension-comm\"];\n  window.PyViz.plot_index = {}\n}\n\n/**\n * Handle update_display_data messages\n */\nfunction handle_update_output(event, handle) {\n  handle_clear_output(event, {cell: {output_area: handle.output_area}})\n  handle_add_output(event, handle)\n}\n\nfunction register_renderer(events, OutputArea) {\n  function append_mime(data, metadata, element) {\n    // create a DOM node to render to\n    var toinsert = this.create_output_subarea(\n    metadata,\n    CLASS_NAME,\n    EXEC_MIME_TYPE\n    );\n    this.keyboard_manager.register_events(toinsert);\n    // Render to node\n    var props = {data: data, metadata: metadata[EXEC_MIME_TYPE]};\n    render(props, toinsert[0]);\n    element.append(toinsert);\n    return toinsert\n  }\n\n  events.on('output_added.OutputArea', handle_add_output);\n  events.on('output_updated.OutputArea', handle_update_output);\n  events.on('clear_output.CodeCell', handle_clear_output);\n  events.on('delete.Cell', handle_clear_output);\n  events.on('kernel_ready.Kernel', handle_kernel_cleanup);\n\n  OutputArea.prototype.register_mime_type(EXEC_MIME_TYPE, append_mime, {\n    safe: true,\n    index: 0\n  });\n}\n\nif (window.Jupyter !== undefined) {\n  try {\n    var events = require('base/js/events');\n    var OutputArea = require('notebook/js/outputarea').OutputArea;\n    if (OutputArea.prototype.mime_types().indexOf(EXEC_MIME_TYPE) == -1) {\n      register_renderer(events, OutputArea);\n    }\n  } catch(err) {\n  }\n}\n"
     },
     "metadata": {},
     "output_type": "display_data"
    },
    {
     "data": {
      "text/html": "<style>*[data-root-id],\n*[data-root-id] > * {\n  box-sizing: border-box;\n  font-family: var(--jp-ui-font-family);\n  font-size: var(--jp-ui-font-size1);\n  color: var(--vscode-editor-foreground, var(--jp-ui-font-color1));\n}\n\n/* Override VSCode background color */\n.cell-output-ipywidget-background:has(\n    > .cell-output-ipywidget-background > .lm-Widget > *[data-root-id]\n  ),\n.cell-output-ipywidget-background:has(> .lm-Widget > *[data-root-id]) {\n  background-color: transparent !important;\n}\n</style>"
     },
     "metadata": {},
     "output_type": "display_data"
    },
    {
     "data": {
      "text/html": "<div id='p1002'>\n  <div id=\"da72f8bc-fc8a-4d98-adcd-1ff94ab5f572\" data-root-id=\"p1002\" style=\"display: contents;\"></div>\n</div>\n<script type=\"application/javascript\">(function(root) {\n  var docs_json = {\"1c8d3770-7469-475c-8e57-08fe11705e86\":{\"version\":\"3.3.2\",\"title\":\"Bokeh Application\",\"roots\":[{\"type\":\"object\",\"name\":\"panel.models.browser.BrowserInfo\",\"id\":\"p1002\"},{\"type\":\"object\",\"name\":\"panel.models.comm_manager.CommManager\",\"id\":\"p1003\",\"attributes\":{\"plot_id\":\"p1002\",\"comm_id\":\"d796303971aa4f8cbc985ece981d30e3\",\"client_comm_id\":\"558c4ec628ac4e87ab13e0c6d4bd9748\"}}],\"defs\":[{\"type\":\"model\",\"name\":\"ReactiveHTML1\"},{\"type\":\"model\",\"name\":\"FlexBox1\",\"properties\":[{\"name\":\"align_content\",\"kind\":\"Any\",\"default\":\"flex-start\"},{\"name\":\"align_items\",\"kind\":\"Any\",\"default\":\"flex-start\"},{\"name\":\"flex_direction\",\"kind\":\"Any\",\"default\":\"row\"},{\"name\":\"flex_wrap\",\"kind\":\"Any\",\"default\":\"wrap\"},{\"name\":\"justify_content\",\"kind\":\"Any\",\"default\":\"flex-start\"}]},{\"type\":\"model\",\"name\":\"FloatPanel1\",\"properties\":[{\"name\":\"config\",\"kind\":\"Any\",\"default\":{\"type\":\"map\"}},{\"name\":\"contained\",\"kind\":\"Any\",\"default\":true},{\"name\":\"position\",\"kind\":\"Any\",\"default\":\"right-top\"},{\"name\":\"offsetx\",\"kind\":\"Any\",\"default\":null},{\"name\":\"offsety\",\"kind\":\"Any\",\"default\":null},{\"name\":\"theme\",\"kind\":\"Any\",\"default\":\"primary\"},{\"name\":\"status\",\"kind\":\"Any\",\"default\":\"normalized\"}]},{\"type\":\"model\",\"name\":\"GridStack1\",\"properties\":[{\"name\":\"mode\",\"kind\":\"Any\",\"default\":\"warn\"},{\"name\":\"ncols\",\"kind\":\"Any\",\"default\":null},{\"name\":\"nrows\",\"kind\":\"Any\",\"default\":null},{\"name\":\"allow_resize\",\"kind\":\"Any\",\"default\":true},{\"name\":\"allow_drag\",\"kind\":\"Any\",\"default\":true},{\"name\":\"state\",\"kind\":\"Any\",\"default\":[]}]},{\"type\":\"model\",\"name\":\"drag1\",\"properties\":[{\"name\":\"slider_width\",\"kind\":\"Any\",\"default\":5},{\"name\":\"slider_color\",\"kind\":\"Any\",\"default\":\"black\"},{\"name\":\"value\",\"kind\":\"Any\",\"default\":50}]},{\"type\":\"model\",\"name\":\"click1\",\"properties\":[{\"name\":\"terminal_output\",\"kind\":\"Any\",\"default\":\"\"},{\"name\":\"debug_name\",\"kind\":\"Any\",\"default\":\"\"},{\"name\":\"clears\",\"kind\":\"Any\",\"default\":0}]},{\"type\":\"model\",\"name\":\"toggle_value1\",\"properties\":[{\"name\":\"active_icons\",\"kind\":\"Any\",\"default\":{\"type\":\"map\"}},{\"name\":\"options\",\"kind\":\"Any\",\"default\":{\"type\":\"map\",\"entries\":[[\"favorite\",\"heart\"]]}},{\"name\":\"value\",\"kind\":\"Any\",\"default\":[]},{\"name\":\"_reactions\",\"kind\":\"Any\",\"default\":[]},{\"name\":\"_base_url\",\"kind\":\"Any\",\"default\":\"https://tabler-icons.io/static/tabler-icons/icons/\"}]},{\"type\":\"model\",\"name\":\"copy_to_clipboard1\",\"properties\":[{\"name\":\"value\",\"kind\":\"Any\",\"default\":null},{\"name\":\"fill\",\"kind\":\"Any\",\"default\":\"none\"}]},{\"type\":\"model\",\"name\":\"FastWrapper1\",\"properties\":[{\"name\":\"object\",\"kind\":\"Any\",\"default\":null},{\"name\":\"style\",\"kind\":\"Any\",\"default\":null}]},{\"type\":\"model\",\"name\":\"NotificationAreaBase1\",\"properties\":[{\"name\":\"js_events\",\"kind\":\"Any\",\"default\":{\"type\":\"map\"}},{\"name\":\"position\",\"kind\":\"Any\",\"default\":\"bottom-right\"},{\"name\":\"_clear\",\"kind\":\"Any\",\"default\":0}]},{\"type\":\"model\",\"name\":\"NotificationArea1\",\"properties\":[{\"name\":\"js_events\",\"kind\":\"Any\",\"default\":{\"type\":\"map\"}},{\"name\":\"notifications\",\"kind\":\"Any\",\"default\":[]},{\"name\":\"position\",\"kind\":\"Any\",\"default\":\"bottom-right\"},{\"name\":\"_clear\",\"kind\":\"Any\",\"default\":0},{\"name\":\"types\",\"kind\":\"Any\",\"default\":[{\"type\":\"map\",\"entries\":[[\"type\",\"warning\"],[\"background\",\"#ffc107\"],[\"icon\",{\"type\":\"map\",\"entries\":[[\"className\",\"fas fa-exclamation-triangle\"],[\"tagName\",\"i\"],[\"color\",\"white\"]]}]]},{\"type\":\"map\",\"entries\":[[\"type\",\"info\"],[\"background\",\"#007bff\"],[\"icon\",{\"type\":\"map\",\"entries\":[[\"className\",\"fas fa-info-circle\"],[\"tagName\",\"i\"],[\"color\",\"white\"]]}]]}]}]},{\"type\":\"model\",\"name\":\"Notification\",\"properties\":[{\"name\":\"background\",\"kind\":\"Any\",\"default\":null},{\"name\":\"duration\",\"kind\":\"Any\",\"default\":3000},{\"name\":\"icon\",\"kind\":\"Any\",\"default\":null},{\"name\":\"message\",\"kind\":\"Any\",\"default\":\"\"},{\"name\":\"notification_type\",\"kind\":\"Any\",\"default\":null},{\"name\":\"_destroyed\",\"kind\":\"Any\",\"default\":false}]},{\"type\":\"model\",\"name\":\"TemplateActions1\",\"properties\":[{\"name\":\"open_modal\",\"kind\":\"Any\",\"default\":0},{\"name\":\"close_modal\",\"kind\":\"Any\",\"default\":0}]},{\"type\":\"model\",\"name\":\"BootstrapTemplateActions1\",\"properties\":[{\"name\":\"open_modal\",\"kind\":\"Any\",\"default\":0},{\"name\":\"close_modal\",\"kind\":\"Any\",\"default\":0}]},{\"type\":\"model\",\"name\":\"MaterialTemplateActions1\",\"properties\":[{\"name\":\"open_modal\",\"kind\":\"Any\",\"default\":0},{\"name\":\"close_modal\",\"kind\":\"Any\",\"default\":0}]}]}};\n  var render_items = [{\"docid\":\"1c8d3770-7469-475c-8e57-08fe11705e86\",\"roots\":{\"p1002\":\"da72f8bc-fc8a-4d98-adcd-1ff94ab5f572\"},\"root_ids\":[\"p1002\"]}];\n  var docs = Object.values(docs_json)\n  if (!docs) {\n    return\n  }\n  const py_version = docs[0].version.replace('rc', '-rc.').replace('.dev', '-dev.')\n  function embed_document(root) {\n    var Bokeh = get_bokeh(root)\n    Bokeh.embed.embed_items_notebook(docs_json, render_items);\n    for (const render_item of render_items) {\n      for (const root_id of render_item.root_ids) {\n\tconst id_el = document.getElementById(root_id)\n\tif (id_el.children.length && (id_el.children[0].className === 'bk-root')) {\n\t  const root_el = id_el.children[0]\n\t  root_el.id = root_el.id + '-rendered'\n\t}\n      }\n    }\n  }\n  function get_bokeh(root) {\n    if (root.Bokeh === undefined) {\n      return null\n    } else if (root.Bokeh.version !== py_version) {\n      if (root.Bokeh.versions === undefined || !root.Bokeh.versions.has(py_version)) {\n\treturn null\n      }\n      return root.Bokeh.versions.get(py_version);\n    } else if (root.Bokeh.version === py_version) {\n      return root.Bokeh\n    }\n    return null\n  }\n  function is_loaded(root) {\n    var Bokeh = get_bokeh(root)\n    return (Bokeh != null && Bokeh.Panel !== undefined && ( root['Plotly'] !== undefined))\n  }\n  if (is_loaded(root)) {\n    embed_document(root);\n  } else {\n    var attempts = 0;\n    var timer = setInterval(function(root) {\n      if (is_loaded(root)) {\n        clearInterval(timer);\n        embed_document(root);\n      } else if (document.readyState == \"complete\") {\n        attempts++;\n        if (attempts > 200) {\n          clearInterval(timer);\n\t  var Bokeh = get_bokeh(root)\n\t  if (Bokeh == null || Bokeh.Panel == null) {\n            console.warn(\"Panel: ERROR: Unable to run Panel code because Bokeh or Panel library is missing\");\n\t  } else {\n\t    console.warn(\"Panel: WARNING: Attempting to render but not all required libraries could be resolved.\")\n\t    embed_document(root)\n\t  }\n        }\n      }\n    }, 25, root)\n  }\n})(window);</script>",
      "application/vnd.holoviews_exec.v0+json": ""
     },
     "metadata": {
      "application/vnd.holoviews_exec.v0+json": {
       "id": "p1002"
      }
     },
     "output_type": "display_data"
    },
    {
     "data": {
      "text/html": "\n<div class=\"logo-block\">\n<img src='data:image/png;base64,iVBORw0KGgoAAAANSUhEUgAAAEAAAABACAYAAACqaXHeAAAABHNCSVQICAgIfAhkiAAAAAlwSFlz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\nroTBs2RqAAAAAElFTkSuQmCC'\n     style='height:25px; border-radius:12px; display: inline-block; float: left; vertical-align: middle'></img>\n\n\n\n\n\n\n\n  <img src='data:image/png;base64,\niVBORw0KGgoAAAANSUhEUgAAAEAAAABACAYAAACqaXHeAAAABHNCSVQICAgIfAhkiAAAAAlwSFlz\nAAAUtgAAFLYBHNdcgwAAABl0RVh0U29mdHdhcmUAd3d3Lmlua3NjYXBlLm9yZ5vuPBoAAAHOSURB\nVHic7Zs9TsNAEIWfATkNROKnRhS5BieBBig5E9CAchCOkSai5kdCVJaIKaKVovV45bFn9Yw8XxNp\nd/P0/OzNztpOAQDHD3WNCfJ1VxTFVA8+sMc2wMYDYBtg4wGwDbDxANgG2HgAbANsJh/AgfYLZzeb\nRtv7U3uO8fjUWO14rReJrFfA0WVzmyGZTvVJGpaYBLB/KLfPFsPNW2ikMAng90dur6vh2hYaKbJO\ngY+Xpnxqjkp9koYlfj+AbYCNB8A2wMYDYBtgoy6FgW11NlvUqKtuy9Tn7fbz5LGbfqgIu5S162tg\nXgLLFXD/2k1/F/UyqK2/w8EHvivg4lkee3q1QVH21wa6hxzIOgUkg/Oy2RaIDx5I7x0smPxvwOgD\n0G5vtajVY0OWBmOt3BshoOcqkPOs5D7jMaOfArnxANgG2HgAbANseq0CuxWetvTUaKfKZivUV0Bc\n3krlbl9irVTZbMXop4BlwBKjDyA3HgDbABsPgG2AjQfANsDGA2AbYOMBsA2wMQngvOUVmf+ASQBv\nLa/ILFfDtS00UmSdAtKzutT9A6mvz/M+Df6KDNsAGw+AbYCNB8A2wMYDYBtg4wGwDbCZfAAFMO2/\nz/8BE3VwbODCC/EAAAAASUVORK5CYII='\n       style='height:15px; border-radius:12px; display: inline-block; float: left'></img>\n  \n</div>\n"
     },
     "metadata": {},
     "output_type": "display_data"
    }
   ],
   "source": [
    "# Import libraries\n",
    "import numpy as np\n",
    "import pandas as pd\n",
    "import matplotlib.pyplot as plt\n",
    "import psycopg2\n",
    "import getpass\n",
    "import holoviews as hv\n",
    "\n",
    "# for configuring connection \n",
    "from configobj import ConfigObj\n",
    "import os\n",
    "\n",
    "# holoviews extension can be changed depending on preferences (\"plotly\", \"bokeh, \"matplotlib\")\n",
    "hv.extension(\"plotly\") # pip install plotly\n",
    "%matplotlib inline"
   ]
  },
  {
   "cell_type": "code",
   "execution_count": 2,
   "metadata": {
    "ExecuteTime": {
     "end_time": "2024-01-08T15:31:16.258035500Z",
     "start_time": "2024-01-08T15:31:16.228886400Z"
    }
   },
   "outputs": [
    {
     "name": "stdout",
     "output_type": "stream",
     "text": [
      "Database: eicu\n",
      "Username: postgres\n"
     ]
    }
   ],
   "source": [
    "# Create a database connection using settings from config file\n",
    "config='../db/config.ini'\n",
    "\n",
    "# connection info\n",
    "conn_info = dict()\n",
    "if os.path.isfile(config):\n",
    "    config = ConfigObj(config)\n",
    "    conn_info[\"sqluser\"] = config['username']\n",
    "    conn_info[\"sqlpass\"] = config['password']\n",
    "    conn_info[\"sqlhost\"] = config['host']\n",
    "    conn_info[\"sqlport\"] = config['port']\n",
    "    conn_info[\"dbname\"] = config['dbname']\n",
    "    conn_info[\"schema_name\"] = config['schema_name']\n",
    "else:\n",
    "    conn_info[\"sqluser\"] = 'postgres'\n",
    "    conn_info[\"sqlpass\"] = ''\n",
    "    conn_info[\"sqlhost\"] = 'localhost'\n",
    "    conn_info[\"sqlport\"] = 5432\n",
    "    conn_info[\"dbname\"] = 'eicu'\n",
    "    conn_info[\"schema_name\"] = 'public,eicu_crd'\n",
    "    \n",
    "# Connect to the eICU database\n",
    "print('Database: {}'.format(conn_info['dbname']))\n",
    "print('Username: {}'.format(conn_info[\"sqluser\"]))\n",
    "if conn_info[\"sqlpass\"] == '':\n",
    "    # try connecting without password, i.e. peer or OS authentication\n",
    "    try:\n",
    "        if (conn_info[\"sqlhost\"] == 'localhost') & (conn_info[\"sqlport\"]=='5432'):\n",
    "            con = psycopg2.connect(dbname=conn_info[\"dbname\"],\n",
    "                                   user=conn_info[\"sqluser\"])            \n",
    "        else:\n",
    "            con = psycopg2.connect(dbname=conn_info[\"dbname\"],\n",
    "                                   host=conn_info[\"sqlhost\"],\n",
    "                                   port=conn_info[\"sqlport\"],\n",
    "                                   user=conn_info[\"sqluser\"])\n",
    "    except:\n",
    "        conn_info[\"sqlpass\"] = getpass.getpass('Password: ')\n",
    "\n",
    "        con = psycopg2.connect(dbname=conn_info[\"dbname\"],\n",
    "                               host=conn_info[\"sqlhost\"],\n",
    "                               port=conn_info[\"sqlport\"],\n",
    "                               user=conn_info[\"sqluser\"],\n",
    "                               password=conn_info[\"sqlpass\"])\n",
    "query_schema = 'set search_path to ' + conn_info['schema_name'] + ';'"
   ]
  },
  {
   "cell_type": "markdown",
   "metadata": {},
   "source": [
    "## Examine a single patient"
   ]
  },
  {
   "cell_type": "code",
   "execution_count": 3,
   "metadata": {
    "ExecuteTime": {
     "end_time": "2024-01-08T15:31:16.258035500Z",
     "start_time": "2024-01-08T15:31:16.253460Z"
    }
   },
   "outputs": [],
   "source": [
    "patientunitstayid = 287822"
   ]
  },
  {
   "cell_type": "code",
   "execution_count": 4,
   "metadata": {
    "scrolled": true,
    "ExecuteTime": {
     "end_time": "2024-01-08T15:31:17.254741100Z",
     "start_time": "2024-01-08T15:31:16.257034300Z"
    }
   },
   "outputs": [
    {
     "name": "stderr",
     "output_type": "stream",
     "text": [
      "C:\\Users\\Daniel\\AppData\\Local\\Temp\\ipykernel_27056\\611212290.py:7: UserWarning: pandas only supports SQLAlchemy connectable (engine/connection) or database string URI or sqlite3 DBAPI2 connection. Other DBAPI2 objects are not tested. Please consider using SQLAlchemy.\n",
      "  df = pd.read_sql_query(query, con)\n"
     ]
    },
    {
     "data": {
      "text/plain": "   allergyid  patientunitstayid  allergyoffset  allergyenteredoffset  \\\n0     256994             287822           2763                  2763   \n1     318381             287822           4084                  4084   \n2     256996             287822           2763                  2763   \n3     223475             287822            120                   133   \n4     256993             287822           2763                  2763   \n\n          allergynotetype specialtytype   usertype rxincluded writtenineicu  \\\n0  Comprehensive Progress   eCM Primary  THC Nurse      False          True   \n1  Comprehensive Progress   eCM Primary  THC Nurse       True          True   \n2  Comprehensive Progress   eCM Primary  THC Nurse      False          True   \n3               Admission   eCM Primary  THC Nurse       True          True   \n4  Comprehensive Progress   eCM Primary  THC Nurse      False          True   \n\n  drugname allergytype                                        allergyname  \\\n0             Non Drug  Tetracycline                                  ...   \n1             Non Drug  Nickel                                        ...   \n2             Non Drug  Clindamycin                                   ...   \n3             Non Drug  Tetracycline                                  ...   \n4             Non Drug  Nickel                                        ...   \n\n  drughiclseqno  \n0          None  \n1          None  \n2          None  \n3          None  \n4          None  ",
      "text/html": "<div>\n<style scoped>\n    .dataframe tbody tr th:only-of-type {\n        vertical-align: middle;\n    }\n\n    .dataframe tbody tr th {\n        vertical-align: top;\n    }\n\n    .dataframe thead th {\n        text-align: right;\n    }\n</style>\n<table border=\"1\" class=\"dataframe\">\n  <thead>\n    <tr style=\"text-align: right;\">\n      <th></th>\n      <th>allergyid</th>\n      <th>patientunitstayid</th>\n      <th>allergyoffset</th>\n      <th>allergyenteredoffset</th>\n      <th>allergynotetype</th>\n      <th>specialtytype</th>\n      <th>usertype</th>\n      <th>rxincluded</th>\n      <th>writtenineicu</th>\n      <th>drugname</th>\n      <th>allergytype</th>\n      <th>allergyname</th>\n      <th>drughiclseqno</th>\n    </tr>\n  </thead>\n  <tbody>\n    <tr>\n      <th>0</th>\n      <td>256994</td>\n      <td>287822</td>\n      <td>2763</td>\n      <td>2763</td>\n      <td>Comprehensive Progress</td>\n      <td>eCM Primary</td>\n      <td>THC Nurse</td>\n      <td>False</td>\n      <td>True</td>\n      <td></td>\n      <td>Non Drug</td>\n      <td>Tetracycline                                  ...</td>\n      <td>None</td>\n    </tr>\n    <tr>\n      <th>1</th>\n      <td>318381</td>\n      <td>287822</td>\n      <td>4084</td>\n      <td>4084</td>\n      <td>Comprehensive Progress</td>\n      <td>eCM Primary</td>\n      <td>THC Nurse</td>\n      <td>True</td>\n      <td>True</td>\n      <td></td>\n      <td>Non Drug</td>\n      <td>Nickel                                        ...</td>\n      <td>None</td>\n    </tr>\n    <tr>\n      <th>2</th>\n      <td>256996</td>\n      <td>287822</td>\n      <td>2763</td>\n      <td>2763</td>\n      <td>Comprehensive Progress</td>\n      <td>eCM Primary</td>\n      <td>THC Nurse</td>\n      <td>False</td>\n      <td>True</td>\n      <td></td>\n      <td>Non Drug</td>\n      <td>Clindamycin                                   ...</td>\n      <td>None</td>\n    </tr>\n    <tr>\n      <th>3</th>\n      <td>223475</td>\n      <td>287822</td>\n      <td>120</td>\n      <td>133</td>\n      <td>Admission</td>\n      <td>eCM Primary</td>\n      <td>THC Nurse</td>\n      <td>True</td>\n      <td>True</td>\n      <td></td>\n      <td>Non Drug</td>\n      <td>Tetracycline                                  ...</td>\n      <td>None</td>\n    </tr>\n    <tr>\n      <th>4</th>\n      <td>256993</td>\n      <td>287822</td>\n      <td>2763</td>\n      <td>2763</td>\n      <td>Comprehensive Progress</td>\n      <td>eCM Primary</td>\n      <td>THC Nurse</td>\n      <td>False</td>\n      <td>True</td>\n      <td></td>\n      <td>Non Drug</td>\n      <td>Nickel                                        ...</td>\n      <td>None</td>\n    </tr>\n  </tbody>\n</table>\n</div>"
     },
     "execution_count": 4,
     "metadata": {},
     "output_type": "execute_result"
    }
   ],
   "source": [
    "query = query_schema + \"\"\"\n",
    "select *\n",
    "from allergy\n",
    "where patientunitstayid = {}\n",
    "\"\"\".format(patientunitstayid)\n",
    "\n",
    "df = pd.read_sql_query(query, con)\n",
    "df.head()"
   ]
  },
  {
   "cell_type": "code",
   "execution_count": 5,
   "metadata": {
    "ExecuteTime": {
     "end_time": "2024-01-08T15:31:17.263670500Z",
     "start_time": "2024-01-08T15:31:17.255741800Z"
    }
   },
   "outputs": [
    {
     "data": {
      "text/plain": "   allergyid  patientunitstayid  allergyoffset  allergyenteredoffset  \\\n0     256994             287822           2763                  2763   \n1     318381             287822           4084                  4084   \n2     256996             287822           2763                  2763   \n3     223475             287822            120                   133   \n4     256993             287822           2763                  2763   \n\n          allergynotetype   usertype writtenineicu drugname allergytype  \\\n0  Comprehensive Progress  THC Nurse          True             Non Drug   \n1  Comprehensive Progress  THC Nurse          True             Non Drug   \n2  Comprehensive Progress  THC Nurse          True             Non Drug   \n3               Admission  THC Nurse          True             Non Drug   \n4  Comprehensive Progress  THC Nurse          True             Non Drug   \n\n                                         allergyname  \n0  Tetracycline                                  ...  \n1  Nickel                                        ...  \n2  Clindamycin                                   ...  \n3  Tetracycline                                  ...  \n4  Nickel                                        ...  ",
      "text/html": "<div>\n<style scoped>\n    .dataframe tbody tr th:only-of-type {\n        vertical-align: middle;\n    }\n\n    .dataframe tbody tr th {\n        vertical-align: top;\n    }\n\n    .dataframe thead th {\n        text-align: right;\n    }\n</style>\n<table border=\"1\" class=\"dataframe\">\n  <thead>\n    <tr style=\"text-align: right;\">\n      <th></th>\n      <th>allergyid</th>\n      <th>patientunitstayid</th>\n      <th>allergyoffset</th>\n      <th>allergyenteredoffset</th>\n      <th>allergynotetype</th>\n      <th>usertype</th>\n      <th>writtenineicu</th>\n      <th>drugname</th>\n      <th>allergytype</th>\n      <th>allergyname</th>\n    </tr>\n  </thead>\n  <tbody>\n    <tr>\n      <th>0</th>\n      <td>256994</td>\n      <td>287822</td>\n      <td>2763</td>\n      <td>2763</td>\n      <td>Comprehensive Progress</td>\n      <td>THC Nurse</td>\n      <td>True</td>\n      <td></td>\n      <td>Non Drug</td>\n      <td>Tetracycline                                  ...</td>\n    </tr>\n    <tr>\n      <th>1</th>\n      <td>318381</td>\n      <td>287822</td>\n      <td>4084</td>\n      <td>4084</td>\n      <td>Comprehensive Progress</td>\n      <td>THC Nurse</td>\n      <td>True</td>\n      <td></td>\n      <td>Non Drug</td>\n      <td>Nickel                                        ...</td>\n    </tr>\n    <tr>\n      <th>2</th>\n      <td>256996</td>\n      <td>287822</td>\n      <td>2763</td>\n      <td>2763</td>\n      <td>Comprehensive Progress</td>\n      <td>THC Nurse</td>\n      <td>True</td>\n      <td></td>\n      <td>Non Drug</td>\n      <td>Clindamycin                                   ...</td>\n    </tr>\n    <tr>\n      <th>3</th>\n      <td>223475</td>\n      <td>287822</td>\n      <td>120</td>\n      <td>133</td>\n      <td>Admission</td>\n      <td>THC Nurse</td>\n      <td>True</td>\n      <td></td>\n      <td>Non Drug</td>\n      <td>Tetracycline                                  ...</td>\n    </tr>\n    <tr>\n      <th>4</th>\n      <td>256993</td>\n      <td>287822</td>\n      <td>2763</td>\n      <td>2763</td>\n      <td>Comprehensive Progress</td>\n      <td>THC Nurse</td>\n      <td>True</td>\n      <td></td>\n      <td>Non Drug</td>\n      <td>Nickel                                        ...</td>\n    </tr>\n  </tbody>\n</table>\n</div>"
     },
     "execution_count": 5,
     "metadata": {},
     "output_type": "execute_result"
    }
   ],
   "source": [
    "# Look at a subset of columns\n",
    "cols = ['allergyid','patientunitstayid','allergyoffset','allergyenteredoffset',\n",
    "        'allergynotetype', 'usertype', 'writtenineicu',\n",
    "       'drugname','allergytype','allergyname']\n",
    "df[cols].head()"
   ]
  },
  {
   "cell_type": "markdown",
   "metadata": {},
   "source": [
    "Here we can see that this patient had an admission note highlighting they were allergic to nickel, tetracycline, ampicillin, and clindamycin."
   ]
  },
  {
   "cell_type": "markdown",
   "metadata": {},
   "source": [
    "## Identifying patients allergic to tetracycline"
   ]
  },
  {
   "cell_type": "markdown",
   "metadata": {},
   "source": [
    "Let's look for patients who were allergic to tetracycline."
   ]
  },
  {
   "cell_type": "code",
   "execution_count": 6,
   "metadata": {
    "scrolled": true,
    "ExecuteTime": {
     "end_time": "2024-01-08T15:31:17.368197400Z",
     "start_time": "2024-01-08T15:31:17.261670200Z"
    }
   },
   "outputs": [
    {
     "name": "stdout",
     "output_type": "stream",
     "text": [
      "0 unit stays with allergy to Tetracycline.\n"
     ]
    },
    {
     "name": "stderr",
     "output_type": "stream",
     "text": [
      "C:\\Users\\Daniel\\AppData\\Local\\Temp\\ipykernel_27056\\1773372246.py:12: UserWarning: pandas only supports SQLAlchemy connectable (engine/connection) or database string URI or sqlite3 DBAPI2 connection. Other DBAPI2 objects are not tested. Please consider using SQLAlchemy.\n",
      "  df = pd.read_sql_query(query, con)\n"
     ]
    },
    {
     "data": {
      "text/plain": "Empty DataFrame\nColumns: [patientunitstayid, allergyoffset, allergyenteredoffset, allergytype, allergyname, drugname, drughiclseqno]\nIndex: []",
      "text/html": "<div>\n<style scoped>\n    .dataframe tbody tr th:only-of-type {\n        vertical-align: middle;\n    }\n\n    .dataframe tbody tr th {\n        vertical-align: top;\n    }\n\n    .dataframe thead th {\n        text-align: right;\n    }\n</style>\n<table border=\"1\" class=\"dataframe\">\n  <thead>\n    <tr style=\"text-align: right;\">\n      <th></th>\n      <th>patientunitstayid</th>\n      <th>allergyoffset</th>\n      <th>allergyenteredoffset</th>\n      <th>allergytype</th>\n      <th>allergyname</th>\n      <th>drugname</th>\n      <th>drughiclseqno</th>\n    </tr>\n    <tr>\n      <th>allergyid</th>\n      <th></th>\n      <th></th>\n      <th></th>\n      <th></th>\n      <th></th>\n      <th></th>\n      <th></th>\n    </tr>\n  </thead>\n  <tbody>\n  </tbody>\n</table>\n</div>"
     },
     "execution_count": 6,
     "metadata": {},
     "output_type": "execute_result"
    }
   ],
   "source": [
    "drug = 'Tetracycline'\n",
    "query = query_schema + \"\"\"\n",
    "select \n",
    "  allergyid, patientunitstayid\n",
    "  , allergyoffset, allergyenteredoffset\n",
    "  , allergytype, allergyname\n",
    "  , drugname, drughiclseqno\n",
    "from allergy\n",
    "where allergyname = '{}'\n",
    "\"\"\".format(drug)\n",
    "\n",
    "df = pd.read_sql_query(query, con)\n",
    "df.set_index('allergyid',inplace=True)\n",
    "print('{} unit stays with allergy to {}.'.format(df['patientunitstayid'].nunique(), drug))\n",
    "df.head()"
   ]
  },
  {
   "cell_type": "markdown",
   "metadata": {},
   "source": [
    "However, it's also possible that they used mixed case, pluralization, or specified more than that specific string. We can use a string comparison to look for allergies like tetracycline."
   ]
  },
  {
   "cell_type": "code",
   "execution_count": 7,
   "metadata": {
    "ExecuteTime": {
     "end_time": "2024-01-08T15:31:17.507719600Z",
     "start_time": "2024-01-08T15:31:17.308196300Z"
    }
   },
   "outputs": [
    {
     "name": "stderr",
     "output_type": "stream",
     "text": [
      "C:\\Users\\Daniel\\AppData\\Local\\Temp\\ipykernel_27056\\3691082320.py:12: UserWarning: pandas only supports SQLAlchemy connectable (engine/connection) or database string URI or sqlite3 DBAPI2 connection. Other DBAPI2 objects are not tested. Please consider using SQLAlchemy.\n",
      "  df = pd.read_sql_query(query, con)\n"
     ]
    },
    {
     "name": "stdout",
     "output_type": "stream",
     "text": [
      "752 unit stays with allergy to Tetracycline.\n"
     ]
    },
    {
     "data": {
      "text/plain": "allergyname\nTETRACYCLINE                                                                                                                                                                                                                                                       829\nTETRACYCLINE HCL                                                                                                                                                                                                                                                   369\ntetracycline                                                                                                                                                                                                                                                        85\nTetracycline                                                                                                                                                                                                                                                        56\nOXYTETRACYCLINE                                                                                                                                                                                                                                                     29\ntetracyclines                                                                                                                                                                                                                                                       25\nTetracyclines                                                                                                                                                                                                                                                       16\nTETRACYCLINES                                                                                                                                                                                                                                                       15\noxytetracycline                                                                                                                                                                                                                                                      4\ntetracycline, ultram                                                                                                                                                                                                                                                 3\nOxytetracycline                                                                                                                                                                                                                                                      2\ntetracycline base                                                                                                                                                                                                                                                    2\nTetracycline Base                                                                                                                                                                                                                                                    2\nTetracycline Hcl                                                                                                                                                                                                                                                     1\ntetracyclines and re                                                                                                                                                                                                                                                 1\ntetracyclines,                                                                                                                                                                                                                                                       1\nPCN, tetracyclines                                                                                                                                                                                                                                                   1\nTetracycline base                                                                                                                                                                                                                                                    1\ntetracycline antidep                                                                                                                                                                                                                                                 1\nName: count, dtype: int64"
     },
     "execution_count": 7,
     "metadata": {},
     "output_type": "execute_result"
    }
   ],
   "source": [
    "drug = 'Tetracycline'\n",
    "query = query_schema + \"\"\"\n",
    "select \n",
    "  allergyid, patientunitstayid\n",
    "  , allergyoffset, allergyenteredoffset\n",
    "  , allergytype, allergyname\n",
    "  , drugname, drughiclseqno\n",
    "from allergy\n",
    "where lower(allergyname) like '%{}%'\n",
    "\"\"\".format(drug.lower())\n",
    "\n",
    "df = pd.read_sql_query(query, con)\n",
    "df.set_index('allergyid',inplace=True)\n",
    "print('{} unit stays with allergy to {}.'.format(df['patientunitstayid'].nunique(), drug))\n",
    "df['allergyname'].value_counts()"
   ]
  },
  {
   "cell_type": "markdown",
   "metadata": {},
   "source": [
    "It's also possible that they specified the allergy under the `drugname` column."
   ]
  },
  {
   "cell_type": "code",
   "execution_count": 8,
   "metadata": {
    "ExecuteTime": {
     "end_time": "2024-01-08T15:31:17.641628900Z",
     "start_time": "2024-01-08T15:31:17.483719900Z"
    }
   },
   "outputs": [
    {
     "name": "stderr",
     "output_type": "stream",
     "text": [
      "C:\\Users\\Daniel\\AppData\\Local\\Temp\\ipykernel_27056\\3871676106.py:12: UserWarning: pandas only supports SQLAlchemy connectable (engine/connection) or database string URI or sqlite3 DBAPI2 connection. Other DBAPI2 objects are not tested. Please consider using SQLAlchemy.\n",
      "  df = pd.read_sql_query(query, con)\n"
     ]
    },
    {
     "name": "stdout",
     "output_type": "stream",
     "text": [
      "598 unit stays with allergy to Tetracycline specified in drugname.\n",
      "drugname\n",
      "TETRACYCLINE                                                                                                                                                                                                                                                       780\n",
      "TETRACYCLINE HCL                                                                                                                                                                                                                                                   369\n",
      "OXYTETRACYCLINE                                                                                                                                                                                                                                                     28\n",
      "Name: count, dtype: int64\n"
     ]
    },
    {
     "data": {
      "text/plain": "           patientunitstayid  allergyoffset  allergyenteredoffset allergytype  \\\nallergyid                                                                       \n431828                252985           2415                  2421        Drug   \n243647                261622             28                   101        Drug   \n274631                262382            173                   189        Drug   \n344140                262382           1432                  1437        Drug   \n332795                271064             18                   100        Drug   \n\n                                                 allergyname  \\\nallergyid                                                      \n431828     TETRACYCLINE                                  ...   \n243647     TETRACYCLINE                                  ...   \n274631     TETRACYCLINE                                  ...   \n344140     TETRACYCLINE                                  ...   \n332795     TETRACYCLINE                                  ...   \n\n                                                    drugname  drughiclseqno  \nallergyid                                                                    \n431828     TETRACYCLINE                                  ...           5236  \n243647     TETRACYCLINE                                  ...           5236  \n274631     TETRACYCLINE                                  ...           5236  \n344140     TETRACYCLINE                                  ...           5236  \n332795     TETRACYCLINE                                  ...           5236  ",
      "text/html": "<div>\n<style scoped>\n    .dataframe tbody tr th:only-of-type {\n        vertical-align: middle;\n    }\n\n    .dataframe tbody tr th {\n        vertical-align: top;\n    }\n\n    .dataframe thead th {\n        text-align: right;\n    }\n</style>\n<table border=\"1\" class=\"dataframe\">\n  <thead>\n    <tr style=\"text-align: right;\">\n      <th></th>\n      <th>patientunitstayid</th>\n      <th>allergyoffset</th>\n      <th>allergyenteredoffset</th>\n      <th>allergytype</th>\n      <th>allergyname</th>\n      <th>drugname</th>\n      <th>drughiclseqno</th>\n    </tr>\n    <tr>\n      <th>allergyid</th>\n      <th></th>\n      <th></th>\n      <th></th>\n      <th></th>\n      <th></th>\n      <th></th>\n      <th></th>\n    </tr>\n  </thead>\n  <tbody>\n    <tr>\n      <th>431828</th>\n      <td>252985</td>\n      <td>2415</td>\n      <td>2421</td>\n      <td>Drug</td>\n      <td>TETRACYCLINE                                  ...</td>\n      <td>TETRACYCLINE                                  ...</td>\n      <td>5236</td>\n    </tr>\n    <tr>\n      <th>243647</th>\n      <td>261622</td>\n      <td>28</td>\n      <td>101</td>\n      <td>Drug</td>\n      <td>TETRACYCLINE                                  ...</td>\n      <td>TETRACYCLINE                                  ...</td>\n      <td>5236</td>\n    </tr>\n    <tr>\n      <th>274631</th>\n      <td>262382</td>\n      <td>173</td>\n      <td>189</td>\n      <td>Drug</td>\n      <td>TETRACYCLINE                                  ...</td>\n      <td>TETRACYCLINE                                  ...</td>\n      <td>5236</td>\n    </tr>\n    <tr>\n      <th>344140</th>\n      <td>262382</td>\n      <td>1432</td>\n      <td>1437</td>\n      <td>Drug</td>\n      <td>TETRACYCLINE                                  ...</td>\n      <td>TETRACYCLINE                                  ...</td>\n      <td>5236</td>\n    </tr>\n    <tr>\n      <th>332795</th>\n      <td>271064</td>\n      <td>18</td>\n      <td>100</td>\n      <td>Drug</td>\n      <td>TETRACYCLINE                                  ...</td>\n      <td>TETRACYCLINE                                  ...</td>\n      <td>5236</td>\n    </tr>\n  </tbody>\n</table>\n</div>"
     },
     "execution_count": 8,
     "metadata": {},
     "output_type": "execute_result"
    }
   ],
   "source": [
    "drug = 'Tetracycline'\n",
    "query = query_schema + \"\"\"\n",
    "select \n",
    "  allergyid, patientunitstayid\n",
    "  , allergyoffset, allergyenteredoffset\n",
    "  , allergytype, allergyname\n",
    "  , drugname, drughiclseqno\n",
    "from allergy\n",
    "where lower(drugname) like '%{}%'\n",
    "\"\"\".format(drug.lower())\n",
    "\n",
    "df = pd.read_sql_query(query, con)\n",
    "df.set_index('allergyid',inplace=True)\n",
    "print('{} unit stays with allergy to {} specified in drugname.'.format(df['patientunitstayid'].nunique(), drug))\n",
    "print(df['drugname'].value_counts())\n",
    "df.head()"
   ]
  },
  {
   "cell_type": "markdown",
   "metadata": {},
   "source": [
    "Since we may not capture all spellings or brands for tetracycline, we can try to use the HICL code to identify other observations. Above, we can see the HICL for tetracycline is 5236."
   ]
  },
  {
   "cell_type": "code",
   "execution_count": 9,
   "metadata": {
    "ExecuteTime": {
     "end_time": "2024-01-08T15:31:17.767999Z",
     "start_time": "2024-01-08T15:31:17.642628800Z"
    }
   },
   "outputs": [
    {
     "name": "stdout",
     "output_type": "stream",
     "text": [
      "344 unit stays with allergy to HICL 5236 specified in drugname."
     ]
    },
    {
     "name": "stderr",
     "output_type": "stream",
     "text": [
      "C:\\Users\\Daniel\\AppData\\Local\\Temp\\ipykernel_27056\\1224095443.py:12: UserWarning: pandas only supports SQLAlchemy connectable (engine/connection) or database string URI or sqlite3 DBAPI2 connection. Other DBAPI2 objects are not tested. Please consider using SQLAlchemy.\n",
      "  df = pd.read_sql_query(query, con)\n"
     ]
    },
    {
     "name": "stdout",
     "output_type": "stream",
     "text": [
      "\n",
      "drugname\n",
      "TETRACYCLINE                                                                                                                                                                                                                                                       780\n",
      "Name: count, dtype: int64\n"
     ]
    },
    {
     "data": {
      "text/plain": "           patientunitstayid  allergyoffset  allergyenteredoffset allergytype  \\\nallergyid                                                                       \n431828                252985           2415                  2421        Drug   \n243647                261622             28                   101        Drug   \n274631                262382            173                   189        Drug   \n344140                262382           1432                  1437        Drug   \n332795                271064             18                   100        Drug   \n\n                                                 allergyname  \\\nallergyid                                                      \n431828     TETRACYCLINE                                  ...   \n243647     TETRACYCLINE                                  ...   \n274631     TETRACYCLINE                                  ...   \n344140     TETRACYCLINE                                  ...   \n332795     TETRACYCLINE                                  ...   \n\n                                                    drugname  drughiclseqno  \nallergyid                                                                    \n431828     TETRACYCLINE                                  ...           5236  \n243647     TETRACYCLINE                                  ...           5236  \n274631     TETRACYCLINE                                  ...           5236  \n344140     TETRACYCLINE                                  ...           5236  \n332795     TETRACYCLINE                                  ...           5236  ",
      "text/html": "<div>\n<style scoped>\n    .dataframe tbody tr th:only-of-type {\n        vertical-align: middle;\n    }\n\n    .dataframe tbody tr th {\n        vertical-align: top;\n    }\n\n    .dataframe thead th {\n        text-align: right;\n    }\n</style>\n<table border=\"1\" class=\"dataframe\">\n  <thead>\n    <tr style=\"text-align: right;\">\n      <th></th>\n      <th>patientunitstayid</th>\n      <th>allergyoffset</th>\n      <th>allergyenteredoffset</th>\n      <th>allergytype</th>\n      <th>allergyname</th>\n      <th>drugname</th>\n      <th>drughiclseqno</th>\n    </tr>\n    <tr>\n      <th>allergyid</th>\n      <th></th>\n      <th></th>\n      <th></th>\n      <th></th>\n      <th></th>\n      <th></th>\n      <th></th>\n    </tr>\n  </thead>\n  <tbody>\n    <tr>\n      <th>431828</th>\n      <td>252985</td>\n      <td>2415</td>\n      <td>2421</td>\n      <td>Drug</td>\n      <td>TETRACYCLINE                                  ...</td>\n      <td>TETRACYCLINE                                  ...</td>\n      <td>5236</td>\n    </tr>\n    <tr>\n      <th>243647</th>\n      <td>261622</td>\n      <td>28</td>\n      <td>101</td>\n      <td>Drug</td>\n      <td>TETRACYCLINE                                  ...</td>\n      <td>TETRACYCLINE                                  ...</td>\n      <td>5236</td>\n    </tr>\n    <tr>\n      <th>274631</th>\n      <td>262382</td>\n      <td>173</td>\n      <td>189</td>\n      <td>Drug</td>\n      <td>TETRACYCLINE                                  ...</td>\n      <td>TETRACYCLINE                                  ...</td>\n      <td>5236</td>\n    </tr>\n    <tr>\n      <th>344140</th>\n      <td>262382</td>\n      <td>1432</td>\n      <td>1437</td>\n      <td>Drug</td>\n      <td>TETRACYCLINE                                  ...</td>\n      <td>TETRACYCLINE                                  ...</td>\n      <td>5236</td>\n    </tr>\n    <tr>\n      <th>332795</th>\n      <td>271064</td>\n      <td>18</td>\n      <td>100</td>\n      <td>Drug</td>\n      <td>TETRACYCLINE                                  ...</td>\n      <td>TETRACYCLINE                                  ...</td>\n      <td>5236</td>\n    </tr>\n  </tbody>\n</table>\n</div>"
     },
     "execution_count": 9,
     "metadata": {},
     "output_type": "execute_result"
    }
   ],
   "source": [
    "hicl = 5236\n",
    "query = query_schema + \"\"\"\n",
    "select \n",
    "  allergyid, patientunitstayid\n",
    "  , allergyoffset, allergyenteredoffset\n",
    "  , allergytype, allergyname\n",
    "  , drugname, drughiclseqno\n",
    "from allergy\n",
    "where drughiclseqno = {}\n",
    "\"\"\".format(hicl)\n",
    "\n",
    "df = pd.read_sql_query(query, con)\n",
    "df.set_index('allergyid',inplace=True)\n",
    "print('{} unit stays with allergy to HICL {} specified in drugname.'.format(df['patientunitstayid'].nunique(), hicl))\n",
    "print(df['drugname'].value_counts())\n",
    "df.head()"
   ]
  },
  {
   "cell_type": "markdown",
   "metadata": {},
   "source": [
    "Let's combine all these methods and summarize how many patients are identified using each method."
   ]
  },
  {
   "cell_type": "code",
   "execution_count": 10,
   "metadata": {
    "ExecuteTime": {
     "end_time": "2024-01-08T15:31:18.561221300Z",
     "start_time": "2024-01-08T15:31:17.739997700Z"
    }
   },
   "outputs": [
    {
     "name": "stderr",
     "output_type": "stream",
     "text": [
      "C:\\Users\\Daniel\\AppData\\Local\\Temp\\ipykernel_27056\\1135743854.py:14: UserWarning: pandas only supports SQLAlchemy connectable (engine/connection) or database string URI or sqlite3 DBAPI2 connection. Other DBAPI2 objects are not tested. Please consider using SQLAlchemy.\n",
      "  df = pd.read_sql_query(query, con)\n"
     ]
    },
    {
     "data": {
      "text/plain": "                                     patientunitstayid\nhicl_match drug_match allergy_match                   \n0          0          1                            154\n           1          1                            254\n1          1          1                            344",
      "text/html": "<div>\n<style scoped>\n    .dataframe tbody tr th:only-of-type {\n        vertical-align: middle;\n    }\n\n    .dataframe tbody tr th {\n        vertical-align: top;\n    }\n\n    .dataframe thead th {\n        text-align: right;\n    }\n</style>\n<table border=\"1\" class=\"dataframe\">\n  <thead>\n    <tr style=\"text-align: right;\">\n      <th></th>\n      <th></th>\n      <th></th>\n      <th>patientunitstayid</th>\n    </tr>\n    <tr>\n      <th>hicl_match</th>\n      <th>drug_match</th>\n      <th>allergy_match</th>\n      <th></th>\n    </tr>\n  </thead>\n  <tbody>\n    <tr>\n      <th rowspan=\"2\" valign=\"top\">0</th>\n      <th>0</th>\n      <th>1</th>\n      <td>154</td>\n    </tr>\n    <tr>\n      <th>1</th>\n      <th>1</th>\n      <td>254</td>\n    </tr>\n    <tr>\n      <th>1</th>\n      <th>1</th>\n      <th>1</th>\n      <td>344</td>\n    </tr>\n  </tbody>\n</table>\n</div>"
     },
     "execution_count": 10,
     "metadata": {},
     "output_type": "execute_result"
    }
   ],
   "source": [
    "hicl = 5236\n",
    "drugname = 'Tetracycline'\n",
    "allergyname = 'Tetracycline'\n",
    "query = query_schema + \"\"\"\n",
    "select \n",
    "  patientunitstayid\n",
    "  , max(case when drughiclseqno = {} then 1 else 0 end) as hicl_match\n",
    "  , max(case when lower(drugname) like '%{}%' then 1 else 0 end) as drug_match\n",
    "  , max(case when lower(allergyname) like '%{}%' then 1 else 0 end) as allergy_match\n",
    "from allergy\n",
    "group by patientunitstayid\n",
    "\"\"\".format(hicl, drugname.lower(), allergyname.lower())\n",
    "\n",
    "df = pd.read_sql_query(query, con)\n",
    "# drop non-matching rows\n",
    "idx = (df['hicl_match'] == 1) | (df['drug_match'] == 1) | (df['allergy_match'] == 1)\n",
    "df = df.loc[idx, :]\n",
    "\n",
    "df.groupby(['hicl_match', 'drug_match', 'allergy_match']).count()"
   ]
  },
  {
   "cell_type": "markdown",
   "metadata": {},
   "source": [
    "As we can see, using the `allergyname` column was the most effective, and always identified patients allergic to tetracycline. Unfortunately we know this is an incomplete search, as likely providers will document brand names rather than generic names from time to time. For example, tetracyclin is marketed under the name Sumycin among others. We can search for Sumycin in the data:"
   ]
  },
  {
   "cell_type": "code",
   "execution_count": 11,
   "metadata": {
    "ExecuteTime": {
     "end_time": "2024-01-08T15:31:18.752578400Z",
     "start_time": "2024-01-08T15:31:18.561221300Z"
    }
   },
   "outputs": [
    {
     "name": "stderr",
     "output_type": "stream",
     "text": [
      "C:\\Users\\Daniel\\AppData\\Local\\Temp\\ipykernel_27056\\3499823329.py:12: UserWarning: pandas only supports SQLAlchemy connectable (engine/connection) or database string URI or sqlite3 DBAPI2 connection. Other DBAPI2 objects are not tested. Please consider using SQLAlchemy.\n",
      "  df = pd.read_sql_query(query, con)\n"
     ]
    },
    {
     "name": "stdout",
     "output_type": "stream",
     "text": [
      "1 unit stays with allergy to Sumycin.\n"
     ]
    },
    {
     "data": {
      "text/plain": "allergyname\nSUMYCIN                                                                                                                                                                                                                                                            1\nName: count, dtype: int64"
     },
     "execution_count": 11,
     "metadata": {},
     "output_type": "execute_result"
    }
   ],
   "source": [
    "drug = 'Sumycin'\n",
    "query = query_schema + \"\"\"\n",
    "select \n",
    "  allergyid, patientunitstayid\n",
    "  , allergyoffset, allergyenteredoffset\n",
    "  , allergytype, allergyname\n",
    "  , drugname, drughiclseqno\n",
    "from allergy\n",
    "where lower(allergyname) like '%{}%'\n",
    "\"\"\".format(drug.lower())\n",
    "\n",
    "df = pd.read_sql_query(query, con)\n",
    "df.set_index('allergyid',inplace=True)\n",
    "print('{} unit stays with allergy to {}.'.format(df['patientunitstayid'].nunique(), drug))\n",
    "df['allergyname'].value_counts()"
   ]
  },
  {
   "cell_type": "markdown",
   "metadata": {},
   "source": [
    "Happily, in this case, only 1 patient is excluded by not searching for Sumycin, but in general it may be more."
   ]
  },
  {
   "cell_type": "markdown",
   "metadata": {},
   "source": [
    "## Hospitals with data available"
   ]
  },
  {
   "cell_type": "code",
   "execution_count": 12,
   "metadata": {
    "ExecuteTime": {
     "end_time": "2024-01-08T15:31:19.043751200Z",
     "start_time": "2024-01-08T15:31:18.753577400Z"
    }
   },
   "outputs": [
    {
     "name": "stderr",
     "output_type": "stream",
     "text": [
      "C:\\Users\\Daniel\\AppData\\Local\\Temp\\ipykernel_27056\\2189818231.py:12: UserWarning: pandas only supports SQLAlchemy connectable (engine/connection) or database string URI or sqlite3 DBAPI2 connection. Other DBAPI2 objects are not tested. Please consider using SQLAlchemy.\n",
      "  df = pd.read_sql_query(query, con)\n"
     ]
    },
    {
     "data": {
      "text/plain": "     hospitalid  number_of_patients  number_of_patients_with_tbl  \\\n134         338                4277                         2453   \n90          243                4243                         2241   \n184         420                4679                         2127   \n122         300                3617                         1936   \n54          167                6092                         1854   \n80          208                3650                         1700   \n177         411                3199                         1623   \n206         458                3701                         1611   \n58          176                4328                         1508   \n200         443                3656                         1240   \n\n     data completion  \n134        57.353285  \n90         52.816403  \n184        45.458431  \n122        53.525021  \n54         30.433355  \n80         46.575342  \n177        50.734605  \n206        43.528776  \n58         34.842884  \n200        33.916849  ",
      "text/html": "<div>\n<style scoped>\n    .dataframe tbody tr th:only-of-type {\n        vertical-align: middle;\n    }\n\n    .dataframe tbody tr th {\n        vertical-align: top;\n    }\n\n    .dataframe thead th {\n        text-align: right;\n    }\n</style>\n<table border=\"1\" class=\"dataframe\">\n  <thead>\n    <tr style=\"text-align: right;\">\n      <th></th>\n      <th>hospitalid</th>\n      <th>number_of_patients</th>\n      <th>number_of_patients_with_tbl</th>\n      <th>data completion</th>\n    </tr>\n  </thead>\n  <tbody>\n    <tr>\n      <th>134</th>\n      <td>338</td>\n      <td>4277</td>\n      <td>2453</td>\n      <td>57.353285</td>\n    </tr>\n    <tr>\n      <th>90</th>\n      <td>243</td>\n      <td>4243</td>\n      <td>2241</td>\n      <td>52.816403</td>\n    </tr>\n    <tr>\n      <th>184</th>\n      <td>420</td>\n      <td>4679</td>\n      <td>2127</td>\n      <td>45.458431</td>\n    </tr>\n    <tr>\n      <th>122</th>\n      <td>300</td>\n      <td>3617</td>\n      <td>1936</td>\n      <td>53.525021</td>\n    </tr>\n    <tr>\n      <th>54</th>\n      <td>167</td>\n      <td>6092</td>\n      <td>1854</td>\n      <td>30.433355</td>\n    </tr>\n    <tr>\n      <th>80</th>\n      <td>208</td>\n      <td>3650</td>\n      <td>1700</td>\n      <td>46.575342</td>\n    </tr>\n    <tr>\n      <th>177</th>\n      <td>411</td>\n      <td>3199</td>\n      <td>1623</td>\n      <td>50.734605</td>\n    </tr>\n    <tr>\n      <th>206</th>\n      <td>458</td>\n      <td>3701</td>\n      <td>1611</td>\n      <td>43.528776</td>\n    </tr>\n    <tr>\n      <th>58</th>\n      <td>176</td>\n      <td>4328</td>\n      <td>1508</td>\n      <td>34.842884</td>\n    </tr>\n    <tr>\n      <th>200</th>\n      <td>443</td>\n      <td>3656</td>\n      <td>1240</td>\n      <td>33.916849</td>\n    </tr>\n  </tbody>\n</table>\n</div>"
     },
     "execution_count": 12,
     "metadata": {},
     "output_type": "execute_result"
    }
   ],
   "source": [
    "query = query_schema + \"\"\"\n",
    "select \n",
    "  pt.hospitalid\n",
    "  , count(distinct pt.patientunitstayid) as number_of_patients\n",
    "  , count(distinct a.patientunitstayid) as number_of_patients_with_tbl\n",
    "from patient pt\n",
    "left join allergy a\n",
    "  on pt.patientunitstayid = a.patientunitstayid\n",
    "group by pt.hospitalid\n",
    "\"\"\".format(patientunitstayid)\n",
    "\n",
    "df = pd.read_sql_query(query, con)\n",
    "df['data completion'] = df['number_of_patients_with_tbl'] / df['number_of_patients'] * 100.0\n",
    "df.sort_values('number_of_patients_with_tbl', ascending=False, inplace=True)\n",
    "df.head(n=10)"
   ]
  },
  {
   "cell_type": "code",
   "execution_count": 13,
   "metadata": {
    "ExecuteTime": {
     "end_time": "2024-01-08T15:31:19.947506900Z",
     "start_time": "2024-01-08T15:31:19.030069200Z"
    }
   },
   "outputs": [
    {
     "data": {},
     "metadata": {},
     "output_type": "display_data"
    },
    {
     "data": {
      "text/html": "<div id='p1004'>\n  <div id=\"a22c4c5c-4904-4018-abdd-0c10b934dccf\" data-root-id=\"p1004\" style=\"display: contents;\"></div>\n</div>\n<script type=\"application/javascript\">(function(root) {\n  var docs_json = {\"debdec52-5c7a-4b62-bceb-43e5a754e5ba\":{\"version\":\"3.3.2\",\"title\":\"Bokeh Application\",\"roots\":[{\"type\":\"object\",\"name\":\"Row\",\"id\":\"p1004\",\"attributes\":{\"name\":\"Row00655\",\"tags\":[\"embedded\"],\"stylesheets\":[\"\\n:host(.pn-loading.pn-arc):before, .pn-loading.pn-arc:before {\\n  background-image: url(\\\"data:image/svg+xml;base64,PHN2ZyB4bWxucz0iaHR0cDovL3d3dy53My5vcmcvMjAwMC9zdmciIHN0eWxlPSJtYXJnaW46IGF1dG87IGJhY2tncm91bmQ6IG5vbmU7IGRpc3BsYXk6IGJsb2NrOyBzaGFwZS1yZW5kZXJpbmc6IGF1dG87IiB2aWV3Qm94PSIwIDAgMTAwIDEwMCIgcHJlc2VydmVBc3BlY3RSYXRpbz0ieE1pZFlNaWQiPiAgPGNpcmNsZSBjeD0iNTAiIGN5PSI1MCIgZmlsbD0ibm9uZSIgc3Ryb2tlPSIjYzNjM2MzIiBzdHJva2Utd2lkdGg9IjEwIiByPSIzNSIgc3Ryb2tlLWRhc2hhcnJheT0iMTY0LjkzMzYxNDMxMzQ2NDE1IDU2Ljk3Nzg3MTQzNzgyMTM4Ij4gICAgPGFuaW1hdGVUcmFuc2Zvcm0gYXR0cmlidXRlTmFtZT0idHJhbnNmb3JtIiB0eXBlPSJyb3RhdGUiIHJlcGVhdENvdW50PSJpbmRlZmluaXRlIiBkdXI9IjFzIiB2YWx1ZXM9IjAgNTAgNTA7MzYwIDUwIDUwIiBrZXlUaW1lcz0iMDsxIj48L2FuaW1hdGVUcmFuc2Zvcm0+ICA8L2NpcmNsZT48L3N2Zz4=\\\");\\n  background-size: auto calc(min(50%, 400px));\\n}\",{\"type\":\"object\",\"name\":\"ImportedStyleSheet\",\"id\":\"p1007\",\"attributes\":{\"url\":\"https://cdn.holoviz.org/panel/1.3.4/dist/css/loading.css\"}},{\"type\":\"object\",\"name\":\"ImportedStyleSheet\",\"id\":\"p1018\",\"attributes\":{\"url\":\"https://cdn.holoviz.org/panel/1.3.4/dist/css/listpanel.css\"}},{\"type\":\"object\",\"name\":\"ImportedStyleSheet\",\"id\":\"p1005\",\"attributes\":{\"url\":\"https://cdn.holoviz.org/panel/1.3.4/dist/bundled/theme/default.css\"}},{\"type\":\"object\",\"name\":\"ImportedStyleSheet\",\"id\":\"p1006\",\"attributes\":{\"url\":\"https://cdn.holoviz.org/panel/1.3.4/dist/bundled/theme/native.css\"}}],\"margin\":0,\"sizing_mode\":\"stretch_width\",\"align\":\"start\",\"children\":[{\"type\":\"object\",\"name\":\"Spacer\",\"id\":\"p1008\",\"attributes\":{\"name\":\"HSpacer00666\",\"stylesheets\":[\"\\n:host(.pn-loading.pn-arc):before, .pn-loading.pn-arc:before {\\n  background-image: url(\\\"data:image/svg+xml;base64,PHN2ZyB4bWxucz0iaHR0cDovL3d3dy53My5vcmcvMjAwMC9zdmciIHN0eWxlPSJtYXJnaW46IGF1dG87IGJhY2tncm91bmQ6IG5vbmU7IGRpc3BsYXk6IGJsb2NrOyBzaGFwZS1yZW5kZXJpbmc6IGF1dG87IiB2aWV3Qm94PSIwIDAgMTAwIDEwMCIgcHJlc2VydmVBc3BlY3RSYXRpbz0ieE1pZFlNaWQiPiAgPGNpcmNsZSBjeD0iNTAiIGN5PSI1MCIgZmlsbD0ibm9uZSIgc3Ryb2tlPSIjYzNjM2MzIiBzdHJva2Utd2lkdGg9IjEwIiByPSIzNSIgc3Ryb2tlLWRhc2hhcnJheT0iMTY0LjkzMzYxNDMxMzQ2NDE1IDU2Ljk3Nzg3MTQzNzgyMTM4Ij4gICAgPGFuaW1hdGVUcmFuc2Zvcm0gYXR0cmlidXRlTmFtZT0idHJhbnNmb3JtIiB0eXBlPSJyb3RhdGUiIHJlcGVhdENvdW50PSJpbmRlZmluaXRlIiBkdXI9IjFzIiB2YWx1ZXM9IjAgNTAgNTA7MzYwIDUwIDUwIiBrZXlUaW1lcz0iMDsxIj48L2FuaW1hdGVUcmFuc2Zvcm0+ICA8L2NpcmNsZT48L3N2Zz4=\\\");\\n  background-size: auto calc(min(50%, 400px));\\n}\",{\"id\":\"p1007\"},{\"id\":\"p1005\"},{\"id\":\"p1006\"}],\"margin\":0,\"sizing_mode\":\"stretch_width\",\"align\":\"start\"}},{\"type\":\"object\",\"name\":\"panel.models.plotly.PlotlyPlot\",\"id\":\"p1014\",\"attributes\":{\"name\":\"Plotly00684\",\"stylesheets\":[\"\\n:host(.pn-loading.pn-arc):before, .pn-loading.pn-arc:before {\\n  background-image: url(\\\"data:image/svg+xml;base64,PHN2ZyB4bWxucz0iaHR0cDovL3d3dy53My5vcmcvMjAwMC9zdmciIHN0eWxlPSJtYXJnaW46IGF1dG87IGJhY2tncm91bmQ6IG5vbmU7IGRpc3BsYXk6IGJsb2NrOyBzaGFwZS1yZW5kZXJpbmc6IGF1dG87IiB2aWV3Qm94PSIwIDAgMTAwIDEwMCIgcHJlc2VydmVBc3BlY3RSYXRpbz0ieE1pZFlNaWQiPiAgPGNpcmNsZSBjeD0iNTAiIGN5PSI1MCIgZmlsbD0ibm9uZSIgc3Ryb2tlPSIjYzNjM2MzIiBzdHJva2Utd2lkdGg9IjEwIiByPSIzNSIgc3Ryb2tlLWRhc2hhcnJheT0iMTY0LjkzMzYxNDMxMzQ2NDE1IDU2Ljk3Nzg3MTQzNzgyMTM4Ij4gICAgPGFuaW1hdGVUcmFuc2Zvcm0gYXR0cmlidXRlTmFtZT0idHJhbnNmb3JtIiB0eXBlPSJyb3RhdGUiIHJlcGVhdENvdW50PSJpbmRlZmluaXRlIiBkdXI9IjFzIiB2YWx1ZXM9IjAgNTAgNTA7MzYwIDUwIDUwIiBrZXlUaW1lcz0iMDsxIj48L2FuaW1hdGVUcmFuc2Zvcm0+ICA8L2NpcmNsZT48L3N2Zz4=\\\");\\n  background-size: auto calc(min(50%, 400px));\\n}\",{\"id\":\"p1007\"},{\"type\":\"object\",\"name\":\"ImportedStyleSheet\",\"id\":\"p1013\",\"attributes\":{\"url\":\"https://cdn.holoviz.org/panel/1.3.4/dist/css/plotly.css\"}},{\"id\":\"p1005\"},{\"id\":\"p1006\"},\":host { --plotly-icon-color: gray; --plotly-active-icon-color: #2a3f5f; }\"],\"margin\":[5,10],\"align\":\"start\",\"data\":[{\"type\":\"map\",\"entries\":[[\"legendgroup\",\"Histogram_\"],[\"marker\",{\"type\":\"map\",\"entries\":[[\"color\",\"#30a2da\"],[\"line\",{\"type\":\"map\",\"entries\":[[\"color\",\"black\"],[\"width\",1]]}]]}],[\"name\",\"\"],[\"orientation\",\"v\"],[\"showlegend\",false],[\"uid\",\"90015ae3-9d22-41db-ae16-5545f92a28aa\"],[\"width\",7.333333333333334],[\"type\",\"bar\"]]}],\"layout\":{\"type\":\"map\",\"entries\":[[\"autosize\",false],[\"barmode\",\"overlay\"],[\"height\",400],[\"margin\",{\"type\":\"map\",\"entries\":[[\"b\",50],[\"l\",50],[\"pad\",4],[\"r\",50],[\"t\",50]]}],[\"title\",{\"type\":\"map\",\"entries\":[[\"text\",\"Number of Hospitals Data Completion Histogram\"]]}],[\"uirevision\",true],[\"width\",700],[\"xaxis\",{\"type\":\"map\",\"entries\":[[\"automargin\",false],[\"range\",[-4.190476190476191,77.52380952380952]],[\"side\",\"bottom\"],[\"title\",{\"type\":\"map\",\"entries\":[[\"text\",\"Percent of patients with data (binned)\"]]}]]}],[\"yaxis\",{\"type\":\"map\",\"entries\":[[\"automargin\",false],[\"range\",[0.0,48.0]],[\"side\",\"left\"],[\"title\",{\"type\":\"map\",\"entries\":[[\"text\",\"Number of Records\"]]}]]}],[\"template\",{\"type\":\"map\",\"entries\":[[\"data\",{\"type\":\"map\",\"entries\":[[\"histogram2dcontour\",[{\"type\":\"map\",\"entries\":[[\"type\",\"histogram2dcontour\"],[\"colorbar\",{\"type\":\"map\",\"entries\":[[\"outlinewidth\",0],[\"ticks\",\"\"]]}],[\"colorscale\",[[0.0,\"#0d0887\"],[0.1111111111111111,\"#46039f\"],[0.2222222222222222,\"#7201a8\"],[0.3333333333333333,\"#9c179e\"],[0.4444444444444444,\"#bd3786\"],[0.5555555555555556,\"#d8576b\"],[0.6666666666666666,\"#ed7953\"],[0.7777777777777778,\"#fb9f3a\"],[0.8888888888888888,\"#fdca26\"],[1.0,\"#f0f921\"]]]]}]],[\"choropleth\",[{\"type\":\"map\",\"entries\":[[\"type\",\"choropleth\"],[\"colorbar\",{\"type\":\"map\",\"entries\":[[\"outlinewidth\",0],[\"ticks\",\"\"]]}]]}]],[\"histogram2d\",[{\"type\":\"map\",\"entries\":[[\"type\",\"histogram2d\"],[\"colorbar\",{\"type\":\"map\",\"entries\":[[\"outlinewidth\",0],[\"ticks\",\"\"]]}],[\"colorscale\",[[0.0,\"#0d0887\"],[0.1111111111111111,\"#46039f\"],[0.2222222222222222,\"#7201a8\"],[0.3333333333333333,\"#9c179e\"],[0.4444444444444444,\"#bd3786\"],[0.5555555555555556,\"#d8576b\"],[0.6666666666666666,\"#ed7953\"],[0.7777777777777778,\"#fb9f3a\"],[0.8888888888888888,\"#fdca26\"],[1.0,\"#f0f921\"]]]]}]],[\"heatmap\",[{\"type\":\"map\",\"entries\":[[\"type\",\"heatmap\"],[\"colorbar\",{\"type\":\"map\",\"entries\":[[\"outlinewidth\",0],[\"ticks\",\"\"]]}],[\"colorscale\",[[0.0,\"#0d0887\"],[0.1111111111111111,\"#46039f\"],[0.2222222222222222,\"#7201a8\"],[0.3333333333333333,\"#9c179e\"],[0.4444444444444444,\"#bd3786\"],[0.5555555555555556,\"#d8576b\"],[0.6666666666666666,\"#ed7953\"],[0.7777777777777778,\"#fb9f3a\"],[0.8888888888888888,\"#fdca26\"],[1.0,\"#f0f921\"]]]]}]],[\"heatmapgl\",[{\"type\":\"map\",\"entries\":[[\"type\",\"heatmapgl\"],[\"colorbar\",{\"type\":\"map\",\"entries\":[[\"outlinewidth\",0],[\"ticks\",\"\"]]}],[\"colorscale\",[[0.0,\"#0d0887\"],[0.1111111111111111,\"#46039f\"],[0.2222222222222222,\"#7201a8\"],[0.3333333333333333,\"#9c179e\"],[0.4444444444444444,\"#bd3786\"],[0.5555555555555556,\"#d8576b\"],[0.6666666666666666,\"#ed7953\"],[0.7777777777777778,\"#fb9f3a\"],[0.8888888888888888,\"#fdca26\"],[1.0,\"#f0f921\"]]]]}]],[\"contourcarpet\",[{\"type\":\"map\",\"entries\":[[\"type\",\"contourcarpet\"],[\"colorbar\",{\"type\":\"map\",\"entries\":[[\"outlinewidth\",0],[\"ticks\",\"\"]]}]]}]],[\"contour\",[{\"type\":\"map\",\"entries\":[[\"type\",\"contour\"],[\"colorbar\",{\"type\":\"map\",\"entries\":[[\"outlinewidth\",0],[\"ticks\",\"\"]]}],[\"colorscale\",[[0.0,\"#0d0887\"],[0.1111111111111111,\"#46039f\"],[0.2222222222222222,\"#7201a8\"],[0.3333333333333333,\"#9c179e\"],[0.4444444444444444,\"#bd3786\"],[0.5555555555555556,\"#d8576b\"],[0.6666666666666666,\"#ed7953\"],[0.7777777777777778,\"#fb9f3a\"],[0.8888888888888888,\"#fdca26\"],[1.0,\"#f0f921\"]]]]}]],[\"surface\",[{\"type\":\"map\",\"entries\":[[\"type\",\"surface\"],[\"colorbar\",{\"type\":\"map\",\"entries\":[[\"outlinewidth\",0],[\"ticks\",\"\"]]}],[\"colorscale\",[[0.0,\"#0d0887\"],[0.1111111111111111,\"#46039f\"],[0.2222222222222222,\"#7201a8\"],[0.3333333333333333,\"#9c179e\"],[0.4444444444444444,\"#bd3786\"],[0.5555555555555556,\"#d8576b\"],[0.6666666666666666,\"#ed7953\"],[0.7777777777777778,\"#fb9f3a\"],[0.8888888888888888,\"#fdca26\"],[1.0,\"#f0f921\"]]]]}]],[\"mesh3d\",[{\"type\":\"map\",\"entries\":[[\"type\",\"mesh3d\"],[\"colorbar\",{\"type\":\"map\",\"entries\":[[\"outlinewidth\",0],[\"ticks\",\"\"]]}]]}]],[\"scatter\",[{\"type\":\"map\",\"entries\":[[\"fillpattern\",{\"type\":\"map\",\"entries\":[[\"fillmode\",\"overlay\"],[\"size\",10],[\"solidity\",0.2]]}],[\"type\",\"scatter\"]]}]],[\"parcoords\",[{\"type\":\"map\",\"entries\":[[\"type\",\"parcoords\"],[\"line\",{\"type\":\"map\",\"entries\":[[\"colorbar\",{\"type\":\"map\",\"entries\":[[\"outlinewidth\",0],[\"ticks\",\"\"]]}]]}]]}]],[\"scatterpolargl\",[{\"type\":\"map\",\"entries\":[[\"type\",\"scatterpolargl\"],[\"marker\",{\"type\":\"map\",\"entries\":[[\"colorbar\",{\"type\":\"map\",\"entries\":[[\"outlinewidth\",0],[\"ticks\",\"\"]]}]]}]]}]],[\"bar\",[{\"type\":\"map\",\"entries\":[[\"error_x\",{\"type\":\"map\",\"entries\":[[\"color\",\"#2a3f5f\"]]}],[\"error_y\",{\"type\":\"map\",\"entries\":[[\"color\",\"#2a3f5f\"]]}],[\"marker\",{\"type\":\"map\",\"entries\":[[\"line\",{\"type\":\"map\",\"entries\":[[\"color\",\"#E5ECF6\"],[\"width\",0.5]]}],[\"pattern\",{\"type\":\"map\",\"entries\":[[\"fillmode\",\"overlay\"],[\"size\",10],[\"solidity\",0.2]]}]]}],[\"type\",\"bar\"]]}]],[\"scattergeo\",[{\"type\":\"map\",\"entries\":[[\"type\",\"scattergeo\"],[\"marker\",{\"type\":\"map\",\"entries\":[[\"colorbar\",{\"type\":\"map\",\"entries\":[[\"outlinewidth\",0],[\"ticks\",\"\"]]}]]}]]}]],[\"scatterpolar\",[{\"type\":\"map\",\"entries\":[[\"type\",\"scatterpolar\"],[\"marker\",{\"type\":\"map\",\"entries\":[[\"colorbar\",{\"type\":\"map\",\"entries\":[[\"outlinewidth\",0],[\"ticks\",\"\"]]}]]}]]}]],[\"histogram\",[{\"type\":\"map\",\"entries\":[[\"marker\",{\"type\":\"map\",\"entries\":[[\"pattern\",{\"type\":\"map\",\"entries\":[[\"fillmode\",\"overlay\"],[\"size\",10],[\"solidity\",0.2]]}]]}],[\"type\",\"histogram\"]]}]],[\"scattergl\",[{\"type\":\"map\",\"entries\":[[\"type\",\"scattergl\"],[\"marker\",{\"type\":\"map\",\"entries\":[[\"colorbar\",{\"type\":\"map\",\"entries\":[[\"outlinewidth\",0],[\"ticks\",\"\"]]}]]}]]}]],[\"scatter3d\",[{\"type\":\"map\",\"entries\":[[\"type\",\"scatter3d\"],[\"line\",{\"type\":\"map\",\"entries\":[[\"colorbar\",{\"type\":\"map\",\"entries\":[[\"outlinewidth\",0],[\"ticks\",\"\"]]}]]}],[\"marker\",{\"type\":\"map\",\"entries\":[[\"colorbar\",{\"type\":\"map\",\"entries\":[[\"outlinewidth\",0],[\"ticks\",\"\"]]}]]}]]}]],[\"scattermapbox\",[{\"type\":\"map\",\"entries\":[[\"type\",\"scattermapbox\"],[\"marker\",{\"type\":\"map\",\"entries\":[[\"colorbar\",{\"type\":\"map\",\"entries\":[[\"outlinewidth\",0],[\"ticks\",\"\"]]}]]}]]}]],[\"scatterternary\",[{\"type\":\"map\",\"entries\":[[\"type\",\"scatterternary\"],[\"marker\",{\"type\":\"map\",\"entries\":[[\"colorbar\",{\"type\":\"map\",\"entries\":[[\"outlinewidth\",0],[\"ticks\",\"\"]]}]]}]]}]],[\"scattercarpet\",[{\"type\":\"map\",\"entries\":[[\"type\",\"scattercarpet\"],[\"marker\",{\"type\":\"map\",\"entries\":[[\"colorbar\",{\"type\":\"map\",\"entries\":[[\"outlinewidth\",0],[\"ticks\",\"\"]]}]]}]]}]],[\"carpet\",[{\"type\":\"map\",\"entries\":[[\"aaxis\",{\"type\":\"map\",\"entries\":[[\"endlinecolor\",\"#2a3f5f\"],[\"gridcolor\",\"white\"],[\"linecolor\",\"white\"],[\"minorgridcolor\",\"white\"],[\"startlinecolor\",\"#2a3f5f\"]]}],[\"baxis\",{\"type\":\"map\",\"entries\":[[\"endlinecolor\",\"#2a3f5f\"],[\"gridcolor\",\"white\"],[\"linecolor\",\"white\"],[\"minorgridcolor\",\"white\"],[\"startlinecolor\",\"#2a3f5f\"]]}],[\"type\",\"carpet\"]]}]],[\"table\",[{\"type\":\"map\",\"entries\":[[\"cells\",{\"type\":\"map\",\"entries\":[[\"fill\",{\"type\":\"map\",\"entries\":[[\"color\",\"#EBF0F8\"]]}],[\"line\",{\"type\":\"map\",\"entries\":[[\"color\",\"white\"]]}]]}],[\"header\",{\"type\":\"map\",\"entries\":[[\"fill\",{\"type\":\"map\",\"entries\":[[\"color\",\"#C8D4E3\"]]}],[\"line\",{\"type\":\"map\",\"entries\":[[\"color\",\"white\"]]}]]}],[\"type\",\"table\"]]}]],[\"barpolar\",[{\"type\":\"map\",\"entries\":[[\"marker\",{\"type\":\"map\",\"entries\":[[\"line\",{\"type\":\"map\",\"entries\":[[\"color\",\"#E5ECF6\"],[\"width\",0.5]]}],[\"pattern\",{\"type\":\"map\",\"entries\":[[\"fillmode\",\"overlay\"],[\"size\",10],[\"solidity\",0.2]]}]]}],[\"type\",\"barpolar\"]]}]],[\"pie\",[{\"type\":\"map\",\"entries\":[[\"automargin\",true],[\"type\",\"pie\"]]}]]]}],[\"layout\",{\"type\":\"map\",\"entries\":[[\"autotypenumbers\",\"strict\"],[\"colorway\",[\"#636efa\",\"#EF553B\",\"#00cc96\",\"#ab63fa\",\"#FFA15A\",\"#19d3f3\",\"#FF6692\",\"#B6E880\",\"#FF97FF\",\"#FECB52\"]],[\"font\",{\"type\":\"map\",\"entries\":[[\"color\",\"#2a3f5f\"]]}],[\"hovermode\",\"closest\"],[\"hoverlabel\",{\"type\":\"map\",\"entries\":[[\"align\",\"left\"]]}],[\"paper_bgcolor\",\"white\"],[\"plot_bgcolor\",\"#E5ECF6\"],[\"polar\",{\"type\":\"map\",\"entries\":[[\"bgcolor\",\"#E5ECF6\"],[\"angularaxis\",{\"type\":\"map\",\"entries\":[[\"gridcolor\",\"white\"],[\"linecolor\",\"white\"],[\"ticks\",\"\"]]}],[\"radialaxis\",{\"type\":\"map\",\"entries\":[[\"gridcolor\",\"white\"],[\"linecolor\",\"white\"],[\"ticks\",\"\"]]}]]}],[\"ternary\",{\"type\":\"map\",\"entries\":[[\"bgcolor\",\"#E5ECF6\"],[\"aaxis\",{\"type\":\"map\",\"entries\":[[\"gridcolor\",\"white\"],[\"linecolor\",\"white\"],[\"ticks\",\"\"]]}],[\"baxis\",{\"type\":\"map\",\"entries\":[[\"gridcolor\",\"white\"],[\"linecolor\",\"white\"],[\"ticks\",\"\"]]}],[\"caxis\",{\"type\":\"map\",\"entries\":[[\"gridcolor\",\"white\"],[\"linecolor\",\"white\"],[\"ticks\",\"\"]]}]]}],[\"coloraxis\",{\"type\":\"map\",\"entries\":[[\"colorbar\",{\"type\":\"map\",\"entries\":[[\"outlinewidth\",0],[\"ticks\",\"\"]]}]]}],[\"colorscale\",{\"type\":\"map\",\"entries\":[[\"sequential\",[[0.0,\"#0d0887\"],[0.1111111111111111,\"#46039f\"],[0.2222222222222222,\"#7201a8\"],[0.3333333333333333,\"#9c179e\"],[0.4444444444444444,\"#bd3786\"],[0.5555555555555556,\"#d8576b\"],[0.6666666666666666,\"#ed7953\"],[0.7777777777777778,\"#fb9f3a\"],[0.8888888888888888,\"#fdca26\"],[1.0,\"#f0f921\"]]],[\"sequentialminus\",[[0.0,\"#0d0887\"],[0.1111111111111111,\"#46039f\"],[0.2222222222222222,\"#7201a8\"],[0.3333333333333333,\"#9c179e\"],[0.4444444444444444,\"#bd3786\"],[0.5555555555555556,\"#d8576b\"],[0.6666666666666666,\"#ed7953\"],[0.7777777777777778,\"#fb9f3a\"],[0.8888888888888888,\"#fdca26\"],[1.0,\"#f0f921\"]]],[\"diverging\",[[0,\"#8e0152\"],[0.1,\"#c51b7d\"],[0.2,\"#de77ae\"],[0.3,\"#f1b6da\"],[0.4,\"#fde0ef\"],[0.5,\"#f7f7f7\"],[0.6,\"#e6f5d0\"],[0.7,\"#b8e186\"],[0.8,\"#7fbc41\"],[0.9,\"#4d9221\"],[1,\"#276419\"]]]]}],[\"xaxis\",{\"type\":\"map\",\"entries\":[[\"gridcolor\",\"white\"],[\"linecolor\",\"white\"],[\"ticks\",\"\"],[\"title\",{\"type\":\"map\",\"entries\":[[\"standoff\",15]]}],[\"zerolinecolor\",\"white\"],[\"automargin\",true],[\"zerolinewidth\",2]]}],[\"yaxis\",{\"type\":\"map\",\"entries\":[[\"gridcolor\",\"white\"],[\"linecolor\",\"white\"],[\"ticks\",\"\"],[\"title\",{\"type\":\"map\",\"entries\":[[\"standoff\",15]]}],[\"zerolinecolor\",\"white\"],[\"automargin\",true],[\"zerolinewidth\",2]]}],[\"scene\",{\"type\":\"map\",\"entries\":[[\"xaxis\",{\"type\":\"map\",\"entries\":[[\"backgroundcolor\",\"#E5ECF6\"],[\"gridcolor\",\"white\"],[\"linecolor\",\"white\"],[\"showbackground\",true],[\"ticks\",\"\"],[\"zerolinecolor\",\"white\"],[\"gridwidth\",2]]}],[\"yaxis\",{\"type\":\"map\",\"entries\":[[\"backgroundcolor\",\"#E5ECF6\"],[\"gridcolor\",\"white\"],[\"linecolor\",\"white\"],[\"showbackground\",true],[\"ticks\",\"\"],[\"zerolinecolor\",\"white\"],[\"gridwidth\",2]]}],[\"zaxis\",{\"type\":\"map\",\"entries\":[[\"backgroundcolor\",\"#E5ECF6\"],[\"gridcolor\",\"white\"],[\"linecolor\",\"white\"],[\"showbackground\",true],[\"ticks\",\"\"],[\"zerolinecolor\",\"white\"],[\"gridwidth\",2]]}]]}],[\"shapedefaults\",{\"type\":\"map\",\"entries\":[[\"line\",{\"type\":\"map\",\"entries\":[[\"color\",\"#2a3f5f\"]]}]]}],[\"annotationdefaults\",{\"type\":\"map\",\"entries\":[[\"arrowcolor\",\"#2a3f5f\"],[\"arrowhead\",0],[\"arrowwidth\",1]]}],[\"geo\",{\"type\":\"map\",\"entries\":[[\"bgcolor\",\"white\"],[\"landcolor\",\"#E5ECF6\"],[\"subunitcolor\",\"white\"],[\"showland\",true],[\"showlakes\",true],[\"lakecolor\",\"white\"]]}],[\"title\",{\"type\":\"map\",\"entries\":[[\"x\",0.05]]}],[\"mapbox\",{\"type\":\"map\",\"entries\":[[\"style\",\"light\"]]}]]}]]}]]},\"config\":{\"type\":\"map\",\"entries\":[[\"responsive\",false]]},\"data_sources\":[{\"type\":\"object\",\"name\":\"ColumnDataSource\",\"id\":\"p1009\",\"attributes\":{\"selected\":{\"type\":\"object\",\"name\":\"Selection\",\"id\":\"p1010\",\"attributes\":{\"indices\":[],\"line_indices\":[]}},\"selection_policy\":{\"type\":\"object\",\"name\":\"UnionRenderers\",\"id\":\"p1011\"},\"data\":{\"type\":\"map\",\"entries\":[[\"x\",[{\"type\":\"ndarray\",\"array\":{\"type\":\"bytes\",\"data\":\"VVVVVVVVDUAAAAAAAAAmQFVVVVVVVTJAqqqqqqqqOUAAAAAAAIBAQKqqqqqqKkRAVVVVVVXVR0AAAAAAAIBLQKqqqqqqKk9AqqqqqqpqUUA=\"},\"shape\":[10],\"dtype\":\"float64\",\"order\":\"little\"}]],[\"y\",[{\"type\":\"ndarray\",\"array\":{\"type\":\"bytes\",\"data\":\"LAAAAAwAAAAMAAAAFQAAABYAAAAcAAAAGgAAAB4AAAAJAAAABAAAAA==\"},\"shape\":[10],\"dtype\":\"int32\",\"order\":\"little\"}]]]}}}],\"relayout\":null,\"restyle\":null,\"viewport_update_throttle\":200}},{\"type\":\"object\",\"name\":\"Spacer\",\"id\":\"p1016\",\"attributes\":{\"name\":\"HSpacer00669\",\"stylesheets\":[\"\\n:host(.pn-loading.pn-arc):before, .pn-loading.pn-arc:before {\\n  background-image: url(\\\"data:image/svg+xml;base64,PHN2ZyB4bWxucz0iaHR0cDovL3d3dy53My5vcmcvMjAwMC9zdmciIHN0eWxlPSJtYXJnaW46IGF1dG87IGJhY2tncm91bmQ6IG5vbmU7IGRpc3BsYXk6IGJsb2NrOyBzaGFwZS1yZW5kZXJpbmc6IGF1dG87IiB2aWV3Qm94PSIwIDAgMTAwIDEwMCIgcHJlc2VydmVBc3BlY3RSYXRpbz0ieE1pZFlNaWQiPiAgPGNpcmNsZSBjeD0iNTAiIGN5PSI1MCIgZmlsbD0ibm9uZSIgc3Ryb2tlPSIjYzNjM2MzIiBzdHJva2Utd2lkdGg9IjEwIiByPSIzNSIgc3Ryb2tlLWRhc2hhcnJheT0iMTY0LjkzMzYxNDMxMzQ2NDE1IDU2Ljk3Nzg3MTQzNzgyMTM4Ij4gICAgPGFuaW1hdGVUcmFuc2Zvcm0gYXR0cmlidXRlTmFtZT0idHJhbnNmb3JtIiB0eXBlPSJyb3RhdGUiIHJlcGVhdENvdW50PSJpbmRlZmluaXRlIiBkdXI9IjFzIiB2YWx1ZXM9IjAgNTAgNTA7MzYwIDUwIDUwIiBrZXlUaW1lcz0iMDsxIj48L2FuaW1hdGVUcmFuc2Zvcm0+ICA8L2NpcmNsZT48L3N2Zz4=\\\");\\n  background-size: auto calc(min(50%, 400px));\\n}\",{\"id\":\"p1007\"},{\"id\":\"p1005\"},{\"id\":\"p1006\"}],\"margin\":0,\"sizing_mode\":\"stretch_width\",\"align\":\"start\"}}]}}],\"defs\":[{\"type\":\"model\",\"name\":\"ReactiveHTML1\"},{\"type\":\"model\",\"name\":\"FlexBox1\",\"properties\":[{\"name\":\"align_content\",\"kind\":\"Any\",\"default\":\"flex-start\"},{\"name\":\"align_items\",\"kind\":\"Any\",\"default\":\"flex-start\"},{\"name\":\"flex_direction\",\"kind\":\"Any\",\"default\":\"row\"},{\"name\":\"flex_wrap\",\"kind\":\"Any\",\"default\":\"wrap\"},{\"name\":\"justify_content\",\"kind\":\"Any\",\"default\":\"flex-start\"}]},{\"type\":\"model\",\"name\":\"FloatPanel1\",\"properties\":[{\"name\":\"config\",\"kind\":\"Any\",\"default\":{\"type\":\"map\"}},{\"name\":\"contained\",\"kind\":\"Any\",\"default\":true},{\"name\":\"position\",\"kind\":\"Any\",\"default\":\"right-top\"},{\"name\":\"offsetx\",\"kind\":\"Any\",\"default\":null},{\"name\":\"offsety\",\"kind\":\"Any\",\"default\":null},{\"name\":\"theme\",\"kind\":\"Any\",\"default\":\"primary\"},{\"name\":\"status\",\"kind\":\"Any\",\"default\":\"normalized\"}]},{\"type\":\"model\",\"name\":\"GridStack1\",\"properties\":[{\"name\":\"mode\",\"kind\":\"Any\",\"default\":\"warn\"},{\"name\":\"ncols\",\"kind\":\"Any\",\"default\":null},{\"name\":\"nrows\",\"kind\":\"Any\",\"default\":null},{\"name\":\"allow_resize\",\"kind\":\"Any\",\"default\":true},{\"name\":\"allow_drag\",\"kind\":\"Any\",\"default\":true},{\"name\":\"state\",\"kind\":\"Any\",\"default\":[]}]},{\"type\":\"model\",\"name\":\"drag1\",\"properties\":[{\"name\":\"slider_width\",\"kind\":\"Any\",\"default\":5},{\"name\":\"slider_color\",\"kind\":\"Any\",\"default\":\"black\"},{\"name\":\"value\",\"kind\":\"Any\",\"default\":50}]},{\"type\":\"model\",\"name\":\"click1\",\"properties\":[{\"name\":\"terminal_output\",\"kind\":\"Any\",\"default\":\"\"},{\"name\":\"debug_name\",\"kind\":\"Any\",\"default\":\"\"},{\"name\":\"clears\",\"kind\":\"Any\",\"default\":0}]},{\"type\":\"model\",\"name\":\"toggle_value1\",\"properties\":[{\"name\":\"active_icons\",\"kind\":\"Any\",\"default\":{\"type\":\"map\"}},{\"name\":\"options\",\"kind\":\"Any\",\"default\":{\"type\":\"map\",\"entries\":[[\"favorite\",\"heart\"]]}},{\"name\":\"value\",\"kind\":\"Any\",\"default\":[]},{\"name\":\"_reactions\",\"kind\":\"Any\",\"default\":[]},{\"name\":\"_base_url\",\"kind\":\"Any\",\"default\":\"https://tabler-icons.io/static/tabler-icons/icons/\"}]},{\"type\":\"model\",\"name\":\"copy_to_clipboard1\",\"properties\":[{\"name\":\"value\",\"kind\":\"Any\",\"default\":null},{\"name\":\"fill\",\"kind\":\"Any\",\"default\":\"none\"}]},{\"type\":\"model\",\"name\":\"FastWrapper1\",\"properties\":[{\"name\":\"object\",\"kind\":\"Any\",\"default\":null},{\"name\":\"style\",\"kind\":\"Any\",\"default\":null}]},{\"type\":\"model\",\"name\":\"NotificationAreaBase1\",\"properties\":[{\"name\":\"js_events\",\"kind\":\"Any\",\"default\":{\"type\":\"map\"}},{\"name\":\"position\",\"kind\":\"Any\",\"default\":\"bottom-right\"},{\"name\":\"_clear\",\"kind\":\"Any\",\"default\":0}]},{\"type\":\"model\",\"name\":\"NotificationArea1\",\"properties\":[{\"name\":\"js_events\",\"kind\":\"Any\",\"default\":{\"type\":\"map\"}},{\"name\":\"notifications\",\"kind\":\"Any\",\"default\":[]},{\"name\":\"position\",\"kind\":\"Any\",\"default\":\"bottom-right\"},{\"name\":\"_clear\",\"kind\":\"Any\",\"default\":0},{\"name\":\"types\",\"kind\":\"Any\",\"default\":[{\"type\":\"map\",\"entries\":[[\"type\",\"warning\"],[\"background\",\"#ffc107\"],[\"icon\",{\"type\":\"map\",\"entries\":[[\"className\",\"fas fa-exclamation-triangle\"],[\"tagName\",\"i\"],[\"color\",\"white\"]]}]]},{\"type\":\"map\",\"entries\":[[\"type\",\"info\"],[\"background\",\"#007bff\"],[\"icon\",{\"type\":\"map\",\"entries\":[[\"className\",\"fas fa-info-circle\"],[\"tagName\",\"i\"],[\"color\",\"white\"]]}]]}]}]},{\"type\":\"model\",\"name\":\"Notification\",\"properties\":[{\"name\":\"background\",\"kind\":\"Any\",\"default\":null},{\"name\":\"duration\",\"kind\":\"Any\",\"default\":3000},{\"name\":\"icon\",\"kind\":\"Any\",\"default\":null},{\"name\":\"message\",\"kind\":\"Any\",\"default\":\"\"},{\"name\":\"notification_type\",\"kind\":\"Any\",\"default\":null},{\"name\":\"_destroyed\",\"kind\":\"Any\",\"default\":false}]},{\"type\":\"model\",\"name\":\"TemplateActions1\",\"properties\":[{\"name\":\"open_modal\",\"kind\":\"Any\",\"default\":0},{\"name\":\"close_modal\",\"kind\":\"Any\",\"default\":0}]},{\"type\":\"model\",\"name\":\"BootstrapTemplateActions1\",\"properties\":[{\"name\":\"open_modal\",\"kind\":\"Any\",\"default\":0},{\"name\":\"close_modal\",\"kind\":\"Any\",\"default\":0}]},{\"type\":\"model\",\"name\":\"MaterialTemplateActions1\",\"properties\":[{\"name\":\"open_modal\",\"kind\":\"Any\",\"default\":0},{\"name\":\"close_modal\",\"kind\":\"Any\",\"default\":0}]}]}};\n  var render_items = [{\"docid\":\"debdec52-5c7a-4b62-bceb-43e5a754e5ba\",\"roots\":{\"p1004\":\"a22c4c5c-4904-4018-abdd-0c10b934dccf\"},\"root_ids\":[\"p1004\"]}];\n  var docs = Object.values(docs_json)\n  if (!docs) {\n    return\n  }\n  const py_version = docs[0].version.replace('rc', '-rc.').replace('.dev', '-dev.')\n  function embed_document(root) {\n    var Bokeh = get_bokeh(root)\n    Bokeh.embed.embed_items_notebook(docs_json, render_items);\n    for (const render_item of render_items) {\n      for (const root_id of render_item.root_ids) {\n\tconst id_el = document.getElementById(root_id)\n\tif (id_el.children.length && (id_el.children[0].className === 'bk-root')) {\n\t  const root_el = id_el.children[0]\n\t  root_el.id = root_el.id + '-rendered'\n\t}\n      }\n    }\n  }\n  function get_bokeh(root) {\n    if (root.Bokeh === undefined) {\n      return null\n    } else if (root.Bokeh.version !== py_version) {\n      if (root.Bokeh.versions === undefined || !root.Bokeh.versions.has(py_version)) {\n\treturn null\n      }\n      return root.Bokeh.versions.get(py_version);\n    } else if (root.Bokeh.version === py_version) {\n      return root.Bokeh\n    }\n    return null\n  }\n  function is_loaded(root) {\n    var Bokeh = get_bokeh(root)\n    return (Bokeh != null && Bokeh.Panel !== undefined && ( root['Plotly'] !== undefined))\n  }\n  if (is_loaded(root)) {\n    embed_document(root);\n  } else {\n    var attempts = 0;\n    var timer = setInterval(function(root) {\n      if (is_loaded(root)) {\n        clearInterval(timer);\n        embed_document(root);\n      } else if (document.readyState == \"complete\") {\n        attempts++;\n        if (attempts > 200) {\n          clearInterval(timer);\n\t  var Bokeh = get_bokeh(root)\n\t  if (Bokeh == null || Bokeh.Panel == null) {\n            console.warn(\"Panel: ERROR: Unable to run Panel code because Bokeh or Panel library is missing\");\n\t  } else {\n\t    console.warn(\"Panel: WARNING: Attempting to render but not all required libraries could be resolved.\")\n\t    embed_document(root)\n\t  }\n        }\n      }\n    }, 25, root)\n  }\n})(window);</script>",
      "application/vnd.holoviews_exec.v0+json": "",
      "text/plain": ":Histogram   [x]   (Frequency)"
     },
     "execution_count": 13,
     "metadata": {
      "application/vnd.holoviews_exec.v0+json": {
       "id": "p1004"
      }
     },
     "output_type": "execute_result"
    }
   ],
   "source": [
    "counts, edges = np.histogram(df[\"data completion\"], bins=10)\n",
    "\n",
    "data_completion_histogram = hv.Histogram((counts, edges))\n",
    "\n",
    "data_completion_histogram.opts(\n",
    "    xlabel=\"Percent of patients with data (binned)\",\n",
    "    ylabel=\"Number of Records\",\n",
    "    title=\"Number of Hospitals Data Completion Histogram\",\n",
    "    width=700,\n",
    "    height=400,\n",
    ")"
   ]
  },
  {
   "cell_type": "markdown",
   "metadata": {},
   "source": [
    "As is common in eICU-CRD, there are a subset of hospitals who routinely utilize this portion of the medical record (and thus have high data completion), while there are other hospitals who rarely use this interface and thus have poor data completion (0-10%). Data completion is conflated with the fact that not all patients will have an allergy, and thus it is expected that documentation not be >90%."
   ]
  }
 ],
 "metadata": {
  "front-matter": {
   "date": "2015-09-01",
   "linktitle": "admissiondrug",
   "title": "admissiondrug"
  },
  "kernelspec": {
   "display_name": "Python 3",
   "language": "python",
   "name": "python3"
  },
  "language_info": {
   "codemirror_mode": {
    "name": "ipython",
    "version": 3
   },
   "file_extension": ".py",
   "mimetype": "text/x-python",
   "name": "python",
   "nbconvert_exporter": "python",
   "pygments_lexer": "ipython3",
   "version": "3.5.2"
  }
 },
 "nbformat": 4,
 "nbformat_minor": 2
}
